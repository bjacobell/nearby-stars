{
 "cells": [
  {
   "cell_type": "code",
   "execution_count": 1,
   "metadata": {},
   "outputs": [],
   "source": [
    "import numpy as np \n",
    "import matplotlib.pyplot as plt \n",
    "import glob\n",
    "import os\n",
    "import pandas as pd\n",
    "from turbo_seti.find_event.find_event_pipeline import find_event_pipeline\n",
    "from turbo_seti.find_event.plot_event_pipeline import plot_event_pipeline"
   ]
  },
  {
   "cell_type": "code",
   "execution_count": 5,
   "metadata": {},
   "outputs": [],
   "source": [
    "# outdir = '/datax/scratch/benjb/bl_nearby_stars/seticore_output/within_5.1_pc/'\n",
    "\n",
    "# df = pd.read_csv('/datax/scratch/benjb/bl_nearby_stars/unique_star_cadences_catalog_within_5.1_pc_no_band.csv')\n",
    "# h5list = df['.h5 path'].values\n",
    "\n",
    "# dfr = pd.read_csv('/datax/scratch/benjb/bl_nearby_stars/star_cadences_catalog_with_receiver.csv')\n",
    "\n",
    "# rcvrlist = dfr['Receiver'].values\n",
    "\n",
    "# rcvrvec = []\n",
    "\n",
    "# for h5 in h5list:\n",
    "#     rcvrs = rcvrlist[np.where(dfr['.h5 path'].values == h5)[0]]\n",
    "#     rcvr = np.unique(rcvrs)[0]\n",
    "#     rcvrvec.append(rcvr)\n",
    "\n",
    "# rcvrvec = np.array(rcvrvec)\n",
    "\n",
    "# df2 = pd.DataFrame({'Receiver': rcvrvec})\n",
    "# dfn = df.join(df2)\n",
    "\n",
    "# datlist = []\n",
    "\n",
    "# for h5 in h5list:\n",
    "#     basename = os.path.basename(h5)\n",
    "#     dat = outdir + basename[:-2] + 'dat'\n",
    "#     datlist.append(dat)\n",
    "\n",
    "# dff = df.join(pd.DataFrame({'.dat path': datlist})).join(df2)\n",
    "\n",
    "# dff.to_csv('/datax/scratch/benjb/bl_nearby_stars/star_cadences_catalog.csv')"
   ]
  },
  {
   "cell_type": "code",
   "execution_count": 2,
   "metadata": {},
   "outputs": [],
   "source": [
    "df = pd.read_csv('/datax/scratch/benjb/bl_nearby_stars/star_cadences_5.1_catalog.csv')"
   ]
  },
  {
   "cell_type": "code",
   "execution_count": 3,
   "metadata": {},
   "outputs": [
    {
     "name": "stdout",
     "output_type": "stream",
     "text": [
      "['Rcvr1_2' 'Rcvr2_3' 'Rcvr4_6' 'Rcvr8_10']\n"
     ]
    }
   ],
   "source": [
    "print(np.unique(df['Receiver'].values))"
   ]
  },
  {
   "cell_type": "code",
   "execution_count": 7,
   "metadata": {},
   "outputs": [
    {
     "name": "stdout",
     "output_type": "stream",
     "text": [
      "['/datag/pipeline/AGBT23B_999_31/blc13_blp13/blc13_guppi_60331_80780_GJ1002_0129.rawspec.0000.h5']\n"
     ]
    }
   ],
   "source": [
    "h5_path = '/datax/scratch/benjb/bl_nearby_stars/seticore_output/within_5.1_pc/blc13_guppi_60331_80780_GJ1002_0129.rawspec.0000.dat'\n",
    "print(df.iloc[np.where(df['.dat path'].values == h5_path)[0]]['.h5 path'].values)"
   ]
  },
  {
   "cell_type": "code",
   "execution_count": null,
   "metadata": {},
   "outputs": [
    {
     "name": "stdout",
     "output_type": "stream",
     "text": [
      "/datag/pipeline/AGBT16A_999_227/collate/spliced_blc04_guppi_57563_75522_GJ412A_0027.gpuspec.0000.h5\n",
      "/datag/pipeline/AGBT16A_999_227/collate/spliced_blc04_guppi_57563_75889_HIP53051_0028.gpuspec.0000.h5\n",
      "/datag/pipeline/AGBT16A_999_227/collate/spliced_blc04_guppi_57563_76259_GJ412A_0029.gpuspec.0000.h5\n",
      "/datag/pipeline/AGBT16A_999_227/collate/spliced_blc04_guppi_57563_76624_HIP53160_0030.gpuspec.0000.h5\n",
      "/datag/pipeline/AGBT16A_999_227/collate/spliced_blc04_guppi_57563_76991_GJ412A_0031.gpuspec.0000.h5\n",
      "/datag/pipeline/AGBT16A_999_227/collate/spliced_blc04_guppi_57563_77362_HIP53283_0032.gpuspec.0000.h5\n",
      "/datag/pipeline/AGBT16A_999_227/collate/spliced_blc04_guppi_57563_77736_GJ412B_0033.gpuspec.0000.h5\n",
      "/datag/pipeline/AGBT16A_999_227/collate/spliced_blc04_guppi_57563_78122_HIP53051_0034.gpuspec.0000.h5\n",
      "/datag/pipeline/AGBT16A_999_227/collate/spliced_blc04_guppi_57563_78507_GJ412B_0035.gpuspec.0000.h5\n",
      "/datag/pipeline/AGBT16A_999_227/collate/spliced_blc04_guppi_57563_78888_HIP53160_0036.gpuspec.0000.h5\n",
      "/datag/pipeline/AGBT16A_999_227/collate/spliced_blc04_guppi_57563_79266_GJ412B_0037.gpuspec.0000.h5\n",
      "/datag/pipeline/AGBT16A_999_227/collate/spliced_blc04_guppi_57563_79635_HIP53283_0038.gpuspec.0000.h5\n"
     ]
    }
   ],
   "source": [
    "#for i, dat_path in enumerate(df['.dat path'].values):\n",
    "#    s = dat_path.split('blc')\n",
    "#    if ('spliced' in dat_path) & (s[1][2] == '_'):\n",
    "#        print(df['.h5 path'].values[i])\n",
    "    #if not os.path.exists(dat_path):\n",
    "    #    print(dat_path)"
   ]
  },
  {
   "cell_type": "code",
   "execution_count": 5,
   "metadata": {},
   "outputs": [
    {
     "name": "stdout",
     "output_type": "stream",
     "text": [
      "splic\n",
      "/datax/scratch/benjb/bl_nearby_stars/seticore_output/within_5.1_pc/spliced_blc00010203050607_guppi_57563_75522_GJ412A_0027.gpuspec.0000.dat\n",
      "\n",
      "===========   BEGINNING FIND_EVENT PIPELINE   ===========\n",
      "\n",
      "Assuming the first observation is an ON\n",
      "find_event_pipeline INFO     file=spliced_blc00010203050607_guppi_57563_75522_GJ412A_0027.gpuspec.0000.dat, tstart=57563.87409722222, source_name=GJ412A, fch1=2251.464842353016, foff=-2.7939677238464355e-06, nchans=469762048\n",
      "find_event_pipeline INFO     file=spliced_blc00010203050607_guppi_57563_75889_HIP53051_0028.gpuspec.0000.dat, tstart=57563.87834490741, source_name=HIP53051, fch1=2251.464842353016, foff=-2.7939677238464355e-06, nchans=469762048\n",
      "find_event_pipeline INFO     file=spliced_blc00010203050607_guppi_57563_76259_GJ412A_0029.gpuspec.0000.dat, tstart=57563.882627314815, source_name=GJ412A, fch1=2251.464842353016, foff=-2.7939677238464355e-06, nchans=469762048\n",
      "find_event_pipeline INFO     file=spliced_blc00010203050607_guppi_57563_76624_HIP53160_0030.gpuspec.0000.dat, tstart=57563.88685185185, source_name=HIP53160, fch1=2251.464842353016, foff=-2.7939677238464355e-06, nchans=469762048\n",
      "find_event_pipeline INFO     file=spliced_blc00010203050607_guppi_57563_76991_GJ412A_0031.gpuspec.0000.dat, tstart=57563.89109953704, source_name=GJ412A, fch1=2251.464842353016, foff=-2.7939677238464355e-06, nchans=469762048\n",
      "find_event_pipeline INFO     file=spliced_blc00010203050607_guppi_57563_77362_HIP53283_0032.gpuspec.0000.dat, tstart=57563.89539351852, source_name=HIP53283, fch1=2251.464842353016, foff=-2.7939677238464355e-06, nchans=469762048\n",
      "There are 6 total files in the filelist /datax/scratch/benjb/bl_nearby_stars/seticore_output/within_5.1_pc/4051_GJ412A_Rcvr1_2_splic_dat_files.lst\n",
      "Therefore, looking for events in 1 on-off set(s)\n",
      "Present in all ON sources with RFI rejection from the OFF sources\n",
      "A CSV file will be saved\n",
      "=== First DAT file in set:  spliced_blc00010203050607_guppi_57563_75522_GJ412A_0027.gpuspec.0000.dat ===\n",
      "find_events: SNR_cut = None\n",
      "find_events: min_drift_rate = None\n",
      "find_events: max_drift_rate = None\n",
      "find_events: Loading data...\n",
      "find_events: Loaded 6051 hits from /datax/scratch/benjb/bl_nearby_stars/seticore_output/within_5.1_pc/spliced_blc00010203050607_guppi_57563_75522_GJ412A_0027.gpuspec.0000.dat (ON)\n",
      "find_events: Loaded 5060 hits from /datax/scratch/benjb/bl_nearby_stars/seticore_output/within_5.1_pc/spliced_blc00010203050607_guppi_57563_75889_HIP53051_0028.gpuspec.0000.dat (OFF)\n",
      "find_events: Loaded 5178 hits from /datax/scratch/benjb/bl_nearby_stars/seticore_output/within_5.1_pc/spliced_blc00010203050607_guppi_57563_76259_GJ412A_0029.gpuspec.0000.dat (ON)\n",
      "find_events: Loaded 5105 hits from /datax/scratch/benjb/bl_nearby_stars/seticore_output/within_5.1_pc/spliced_blc00010203050607_guppi_57563_76624_HIP53160_0030.gpuspec.0000.dat (OFF)\n",
      "find_events: Loaded 4988 hits from /datax/scratch/benjb/bl_nearby_stars/seticore_output/within_5.1_pc/spliced_blc00010203050607_guppi_57563_76991_GJ412A_0031.gpuspec.0000.dat (ON)\n",
      "find_events: Loaded 7530 hits from /datax/scratch/benjb/bl_nearby_stars/seticore_output/within_5.1_pc/spliced_blc00010203050607_guppi_57563_77362_HIP53283_0032.gpuspec.0000.dat (OFF)\n",
      "find_events: All data loaded!\n",
      "\n",
      "find_events: Finding events in this cadence...\n",
      "find_events (Filter threshold 2/3): Found a total of 16217 hits in this cadence!\n",
      "find_events: Found a total of 2010 hits in only the on observations for this cadence!\n",
      "find_events: Found a total of 15 events across this cadence!\n",
      "find_events: Elapsed time: 9.81 sec\n",
      "===========   find_event_pipeline: output dataframe is complete   ===========\n",
      "find_event_pipeline: Saved CSV file to /datax/scratch/benjb/bl_nearby_stars/seticore_output/within_5.1_pc/4051_GJ412A_Rcvr1_2_splic_found_event_table_3.csv\n",
      "plot_event_pipeline: Opened file /datax/scratch/benjb/bl_nearby_stars/seticore_output/within_5.1_pc/4051_GJ412A_Rcvr1_2_splic_f3_trimmed.csv\n",
      "plot_event_pipeline: file = spliced_blc00010203050607_guppi_57563_75522_GJ412A_0027.gpuspec.0000.h5, tstart = 57563.87409722222, source_name = GJ412A\n",
      "plot_event_pipeline: file = spliced_blc00010203050607_guppi_57563_75889_HIP53051_0028.gpuspec.0000.h5, tstart = 57563.87834490741, source_name = HIP53051\n",
      "plot_event_pipeline: file = spliced_blc00010203050607_guppi_57563_76259_GJ412A_0029.gpuspec.0000.h5, tstart = 57563.882627314815, source_name = GJ412A\n",
      "plot_event_pipeline: file = spliced_blc00010203050607_guppi_57563_76624_HIP53160_0030.gpuspec.0000.h5, tstart = 57563.88685185185, source_name = HIP53160\n",
      "plot_event_pipeline: file = spliced_blc00010203050607_guppi_57563_76991_GJ412A_0031.gpuspec.0000.h5, tstart = 57563.89109953704, source_name = GJ412A\n",
      "plot_event_pipeline: file = spliced_blc00010203050607_guppi_57563_77362_HIP53283_0032.gpuspec.0000.h5, tstart = 57563.89539351852, source_name = HIP53283\n",
      "Plotting some events for:  GJ412A\n",
      "There are 5 total events in the csv file /datax/scratch/benjb/bl_nearby_stars/seticore_output/within_5.1_pc/4051_GJ412A_Rcvr1_2_splic_f3_trimmed.csv\n",
      "therefore, you are about to make 5 .png files.\n",
      "plot_event      INFO     plot_candidate_events: elapsed time = 201.60 seconds\n",
      "blc04\n",
      "/datax/scratch/benjb/bl_nearby_stars/seticore_output/within_5.1_pc/spliced_blc04_guppi_57563_75522_GJ412A_0027.gpuspec.0000.dat\n",
      "\n",
      "===========   BEGINNING FIND_EVENT PIPELINE   ===========\n",
      "\n",
      "Assuming the first observation is an ON\n",
      "find_event_pipeline INFO     file=spliced_blc04_guppi_57563_75522_GJ412A_0027.gpuspec.0000.dat, tstart=57563.87409722222, source_name=GJ412A, fch1=1501.4648423530161, foff=-2.7939677238464355e-06, nchans=67108864\n",
      "find_event_pipeline INFO     file=spliced_blc04_guppi_57563_75889_HIP53051_0028.gpuspec.0000.dat, tstart=57563.87834490741, source_name=HIP53051, fch1=1501.4648423530161, foff=-2.7939677238464355e-06, nchans=67108864\n",
      "find_event_pipeline INFO     file=spliced_blc04_guppi_57563_76259_GJ412A_0029.gpuspec.0000.dat, tstart=57563.882627314815, source_name=GJ412A, fch1=1501.4648423530161, foff=-2.7939677238464355e-06, nchans=67108864\n",
      "find_event_pipeline INFO     file=spliced_blc04_guppi_57563_76624_HIP53160_0030.gpuspec.0000.dat, tstart=57563.88685185185, source_name=HIP53160, fch1=1501.4648423530161, foff=-2.7939677238464355e-06, nchans=67108864\n",
      "find_event_pipeline INFO     file=spliced_blc04_guppi_57563_76991_GJ412A_0031.gpuspec.0000.dat, tstart=57563.89109953704, source_name=GJ412A, fch1=1501.4648423530161, foff=-2.7939677238464355e-06, nchans=67108864\n",
      "find_event_pipeline INFO     file=spliced_blc04_guppi_57563_77362_HIP53283_0032.gpuspec.0000.dat, tstart=57563.89539351852, source_name=HIP53283, fch1=1501.4648423530161, foff=-2.7939677238464355e-06, nchans=67108864\n",
      "There are 6 total files in the filelist /datax/scratch/benjb/bl_nearby_stars/seticore_output/within_5.1_pc/4051_GJ412A_Rcvr1_2_blc04_dat_files.lst\n",
      "Therefore, looking for events in 1 on-off set(s)\n",
      "Present in all ON sources with RFI rejection from the OFF sources\n",
      "A CSV file will be saved\n",
      "=== First DAT file in set:  spliced_blc04_guppi_57563_75522_GJ412A_0027.gpuspec.0000.dat ===\n",
      "find_events: SNR_cut = None\n",
      "find_events: min_drift_rate = None\n",
      "find_events: max_drift_rate = None\n",
      "find_events: Loading data...\n",
      "find_events: Loaded 874 hits from /datax/scratch/benjb/bl_nearby_stars/seticore_output/within_5.1_pc/spliced_blc04_guppi_57563_75522_GJ412A_0027.gpuspec.0000.dat (ON)\n",
      "find_events: Loaded 32 hits from /datax/scratch/benjb/bl_nearby_stars/seticore_output/within_5.1_pc/spliced_blc04_guppi_57563_75889_HIP53051_0028.gpuspec.0000.dat (OFF)\n",
      "find_events: Loaded 655 hits from /datax/scratch/benjb/bl_nearby_stars/seticore_output/within_5.1_pc/spliced_blc04_guppi_57563_76259_GJ412A_0029.gpuspec.0000.dat (ON)\n",
      "find_events: Loaded 399 hits from /datax/scratch/benjb/bl_nearby_stars/seticore_output/within_5.1_pc/spliced_blc04_guppi_57563_76624_HIP53160_0030.gpuspec.0000.dat (OFF)\n",
      "find_events: Loaded 37 hits from /datax/scratch/benjb/bl_nearby_stars/seticore_output/within_5.1_pc/spliced_blc04_guppi_57563_76991_GJ412A_0031.gpuspec.0000.dat (ON)\n",
      "find_events: Loaded 29 hits from /datax/scratch/benjb/bl_nearby_stars/seticore_output/within_5.1_pc/spliced_blc04_guppi_57563_77362_HIP53283_0032.gpuspec.0000.dat (OFF)\n",
      "find_events: All data loaded!\n",
      "\n",
      "find_events: Finding events in this cadence...\n",
      "find_events (Filter threshold 2/3): Found a total of 1566 hits in this cadence!\n",
      "find_events: Found a total of 889 hits in only the on observations for this cadence!\n",
      "find_events: Found a total of 2 events across this cadence!\n",
      "find_events: Elapsed time: 1.41 sec\n",
      "===========   find_event_pipeline: output dataframe is complete   ===========\n",
      "find_event_pipeline: Saved CSV file to /datax/scratch/benjb/bl_nearby_stars/seticore_output/within_5.1_pc/4051_GJ412A_Rcvr1_2_blc04_found_event_table_3.csv\n",
      "plot_event_pipeline: Opened file /datax/scratch/benjb/bl_nearby_stars/seticore_output/within_5.1_pc/4051_GJ412A_Rcvr1_2_blc04_f3_trimmed.csv\n",
      "plot_event_pipeline: file = spliced_blc04_guppi_57563_75522_GJ412A_0027.gpuspec.0000.h5, tstart = 57563.87409722222, source_name = GJ412A\n",
      "plot_event_pipeline: file = spliced_blc04_guppi_57563_75889_HIP53051_0028.gpuspec.0000.h5, tstart = 57563.87834490741, source_name = HIP53051\n",
      "plot_event_pipeline: file = spliced_blc04_guppi_57563_76259_GJ412A_0029.gpuspec.0000.h5, tstart = 57563.882627314815, source_name = GJ412A\n",
      "plot_event_pipeline: file = spliced_blc04_guppi_57563_76624_HIP53160_0030.gpuspec.0000.h5, tstart = 57563.88685185185, source_name = HIP53160\n",
      "plot_event_pipeline: file = spliced_blc04_guppi_57563_76991_GJ412A_0031.gpuspec.0000.h5, tstart = 57563.89109953704, source_name = GJ412A\n",
      "plot_event_pipeline: file = spliced_blc04_guppi_57563_77362_HIP53283_0032.gpuspec.0000.h5, tstart = 57563.89539351852, source_name = HIP53283\n",
      "Plotting some events for:  GJ412A\n",
      "There are 1 total events in the csv file /datax/scratch/benjb/bl_nearby_stars/seticore_output/within_5.1_pc/4051_GJ412A_Rcvr1_2_blc04_f3_trimmed.csv\n",
      "therefore, you are about to make 1 .png files.\n",
      "plot_event      INFO     plot_candidate_events: elapsed time = 17.15 seconds\n"
     ]
    }
   ],
   "source": [
    "full_target_list = df['Target'].values\n",
    "full_cadence_id_list = df['Cadence ID'].values\n",
    "full_h5_list = df['.h5 path'].values\n",
    "full_dat_list = df['.dat path'].values\n",
    "full_receiver_list = df['Receiver'].values\n",
    "\n",
    "data_loc = '/datax/scratch/benjb/bl_nearby_stars/seticore_output/within_5.1_pc'\n",
    "\n",
    "start_counter = 0\n",
    "\n",
    "for i in range(len(full_h5_list)//6):\n",
    "\n",
    "    # for each set of 6 files in the 5.1 pc sample, run FindEvent and PlotEvent\n",
    "\n",
    "    h5_list = full_h5_list[6*i:6*i+6]\n",
    "    dat_list = full_dat_list[6*i:6*i+6]\n",
    "    target = full_target_list[6*i]\n",
    "    cadence_id = full_cadence_id_list[6*i]\n",
    "    receiver = full_receiver_list[6*i]\n",
    "    s = dat_list[0].split('blc')\n",
    "    if ('spliced' in dat_list[0]) & (s[1][2] == '_'):\n",
    "        node = 'blc'+s[1][:2]\n",
    "    else:\n",
    "        node = os.path.basename(full_h5_list[6*i])[:5]\n",
    "\n",
    "    if not cadence_id == 4051:\n",
    "        continue\n",
    "\n",
    "    print(node)\n",
    "    print(dat_list[0])\n",
    "\n",
    "    # if (target == 'GJ412B') & (node == 'blc04') & (receiver == 'Rcvr1_2'):\n",
    "    #     start_counter += 1\n",
    "    \n",
    "    # if start_counter == 0:\n",
    "    #     continue\n",
    "\n",
    "    h5_list_path = os.path.join(data_loc, f'{cadence_id}_{target}_{receiver}_{node}_h5_files.lst')\n",
    "    with open(h5_list_path, 'w') as f:\n",
    "        for h5_path in h5_list:\n",
    "            f.write(h5_path + '\\n')\n",
    "\n",
    "    dat_list_path = os.path.join(data_loc, f'{cadence_id}_{target}_{receiver}_{node}_dat_files.lst')\n",
    "    with open(dat_list_path, 'w') as f:\n",
    "        for dat_path in dat_list:\n",
    "            f.write(dat_path + '\\n')\n",
    "\n",
    "    csvf_path = f'{data_loc}/{cadence_id}_{target}_{receiver}_{node}_found_event_table_3.csv'\n",
    "\n",
    "    find_event_pipeline(dat_list_path, \n",
    "                    h5_list_path,\n",
    "                    #SNR_cut=2,\n",
    "                    check_zero_drift = True,\n",
    "                    filter_threshold = 3, \n",
    "                    number_in_cadence = len(dat_list),\n",
    "                    csv_name=csvf_path, \n",
    "                    saving=True\n",
    "                    )\n",
    "    \n",
    "    if not os.path.exists(csvf_path):\n",
    "        print('No event CSV found. Continuing ...')\n",
    "        continue\n",
    "\n",
    "    # trimming regions of insensitivity\n",
    "    event_df = pd.read_csv(csvf_path)\n",
    "    if receiver == 'Rcvr1_2':\n",
    "        trimmed_event_df = event_df.iloc[\n",
    "            np.where((event_df['Freq'].values > 1100) & (event_df['Freq'].values < 1200) |\n",
    "                    (event_df['Freq'].values > 1340) & (event_df['Freq'].values < 1900))[0]\n",
    "            ]\n",
    "    elif receiver == 'Rcvr2_3':\n",
    "        trimmed_event_df = event_df.iloc[\n",
    "            np.where((event_df['Freq'].values > 1800) & (event_df['Freq'].values < 2300) |\n",
    "                    (event_df['Freq'].values > 2360) & (event_df['Freq'].values < 2700))[0]\n",
    "            ]\n",
    "    elif receiver == 'Rcvr4_6':\n",
    "        trimmed_event_df = event_df.iloc[\n",
    "            np.where((event_df['Freq'].values > 4000) & (event_df['Freq'].values < 7800))[0]\n",
    "            ]\n",
    "    elif receiver == 'Rcvr8_10':\n",
    "        trimmed_event_df = event_df.iloc[\n",
    "            np.where((event_df['Freq'].values > 7800) & (event_df['Freq'].values < 11200))[0]\n",
    "            ]\n",
    "    \n",
    "    trimmed_event_df.dropna(subset=['in_n_ons'], inplace=True)\n",
    "\n",
    "    trimmed_event_df.to_csv(f'{data_loc}/{cadence_id}_{target}_{receiver}_{node}_f3_trimmed.csv')\n",
    "    tcsvf_path = f'{data_loc}/{cadence_id}_{target}_{receiver}_{node}_f3_trimmed.csv'\n",
    "    \n",
    "    if len(trimmed_event_df) > 0:\n",
    "        plot_event_pipeline(tcsvf_path, # full path of the CSV file built by find_event_pipeline()\n",
    "                h5_list_path, # full path of text file containing the list of .h5 files\n",
    "                filter_spec='f{}'.format(3), # filter threshold\n",
    "                user_validation=False, # Non-interactive\n",
    "                plot_dir=data_loc+'/pngs/') "
   ]
  },
  {
   "cell_type": "code",
   "execution_count": 1,
   "metadata": {},
   "outputs": [
    {
     "name": "stdout",
     "output_type": "stream",
     "text": [
      "/datag/pipeline/AGBT16A_999_227/collate/spliced_blc04_guppi_57563_77736_GJ412B_0033.gpuspec.0000.h5\n"
     ]
    }
   ],
   "source": [
    "print('/datag/pipeline/AGBT16A_999_227/collate/spliced_blc04_guppi_57563_77736_GJ412B_0033.gpuspec.0000.h5')"
   ]
  },
  {
   "cell_type": "code",
   "execution_count": 2,
   "metadata": {},
   "outputs": [
    {
     "name": "stdout",
     "output_type": "stream",
     "text": [
      "/datax/scratch/benjb/bl_nearby_stars/seticore_output/within_5.1_pc/spliced_blc04_guppi_57563_77736_GJ412B_0033.gpuspec.0000.dat\n"
     ]
    }
   ],
   "source": [
    "print('/datax/scratch/benjb/bl_nearby_stars/seticore_output/within_5.1_pc/spliced_blc04_guppi_57563_77736_GJ412B_0033.gpuspec.0000.dat')"
   ]
  },
  {
   "cell_type": "code",
   "execution_count": 3,
   "metadata": {},
   "outputs": [
    {
     "name": "stdout",
     "output_type": "stream",
     "text": [
      "/datax/scratch/benjb/bl_nearby_stars/seticore_output/within_5.1_pc/4057_GJ412B_Rcvr1_2_splic_f3_trimmed.csv\n"
     ]
    }
   ],
   "source": [
    "print('/datax/scratch/benjb/bl_nearby_stars/seticore_output/within_5.1_pc/4057_GJ412B_Rcvr1_2_splic_f3_trimmed.csv')"
   ]
  },
  {
   "cell_type": "code",
   "execution_count": 5,
   "metadata": {},
   "outputs": [
    {
     "name": "stdout",
     "output_type": "stream",
     "text": [
      "/datax/scratch/benjb/bl_nearby_stars/seticore_output/within_5.1_pc/spliced_blc00010203050607_guppi_57563_77736_GJ412B_0033.gpuspec.0000.dat\n"
     ]
    }
   ],
   "source": [
    "print('/datax/scratch/benjb/bl_nearby_stars/seticore_output/within_5.1_pc/spliced_blc00010203050607_guppi_57563_77736_GJ412B_0033.gpuspec.0000.dat')"
   ]
  },
  {
   "cell_type": "code",
   "execution_count": null,
   "metadata": {},
   "outputs": [],
   "source": []
  }
 ],
 "metadata": {
  "kernelspec": {
   "display_name": "base",
   "language": "python",
   "name": "python3"
  },
  "language_info": {
   "codemirror_mode": {
    "name": "ipython",
    "version": 3
   },
   "file_extension": ".py",
   "mimetype": "text/x-python",
   "name": "python",
   "nbconvert_exporter": "python",
   "pygments_lexer": "ipython3",
   "version": "3.7.6"
  }
 },
 "nbformat": 4,
 "nbformat_minor": 2
}
