{
 "cells": [
  {
   "cell_type": "code",
   "execution_count": 1,
   "metadata": {},
   "outputs": [],
   "source": [
    "import numpy as np \n",
    "import matplotlib.pyplot as plt \n",
    "import pandas as pd \n",
    "import blimpy as bl \n",
    "import glob\n",
    "import os\n",
    "%matplotlib inline"
   ]
  },
  {
   "cell_type": "code",
   "execution_count": 92,
   "metadata": {},
   "outputs": [],
   "source": [
    "### EXCLUDE 'OFF' EVENTS FROM THESE CADENCE IDS:\n",
    "# -- 1549\n",
    "# -- 6762\n",
    "# -- 1281\n",
    "# -- 6363"
   ]
  },
  {
   "cell_type": "code",
   "execution_count": 2,
   "metadata": {},
   "outputs": [
    {
     "data": {
      "text/html": [
       "<div>\n",
       "<style scoped>\n",
       "    .dataframe tbody tr th:only-of-type {\n",
       "        vertical-align: middle;\n",
       "    }\n",
       "\n",
       "    .dataframe tbody tr th {\n",
       "        vertical-align: top;\n",
       "    }\n",
       "\n",
       "    .dataframe thead th {\n",
       "        text-align: right;\n",
       "    }\n",
       "</style>\n",
       "<table border=\"1\" class=\"dataframe\">\n",
       "  <thead>\n",
       "    <tr style=\"text-align: right;\">\n",
       "      <th></th>\n",
       "      <th>Unnamed: 0</th>\n",
       "      <th>Target</th>\n",
       "      <th>Distance</th>\n",
       "      <th>Cadence ID</th>\n",
       "      <th>.h5 path</th>\n",
       "      <th>.dat path</th>\n",
       "      <th>Receiver</th>\n",
       "    </tr>\n",
       "  </thead>\n",
       "  <tbody>\n",
       "    <tr>\n",
       "      <th>0</th>\n",
       "      <td>0</td>\n",
       "      <td>GJ1002</td>\n",
       "      <td>4.69</td>\n",
       "      <td>12847</td>\n",
       "      <td>/datag/pipeline/AGBT16B_999_82/collate/spliced...</td>\n",
       "      <td>/datax/scratch/benjb/bl_nearby_stars/seticore_...</td>\n",
       "      <td>Rcvr4_6</td>\n",
       "    </tr>\n",
       "    <tr>\n",
       "      <th>1</th>\n",
       "      <td>1</td>\n",
       "      <td>GJ1002</td>\n",
       "      <td>4.69</td>\n",
       "      <td>12847</td>\n",
       "      <td>/datag/pipeline/AGBT16B_999_82/collate/spliced...</td>\n",
       "      <td>/datax/scratch/benjb/bl_nearby_stars/seticore_...</td>\n",
       "      <td>Rcvr4_6</td>\n",
       "    </tr>\n",
       "    <tr>\n",
       "      <th>2</th>\n",
       "      <td>2</td>\n",
       "      <td>GJ1002</td>\n",
       "      <td>4.69</td>\n",
       "      <td>12847</td>\n",
       "      <td>/datag/pipeline/AGBT16B_999_82/collate/spliced...</td>\n",
       "      <td>/datax/scratch/benjb/bl_nearby_stars/seticore_...</td>\n",
       "      <td>Rcvr4_6</td>\n",
       "    </tr>\n",
       "    <tr>\n",
       "      <th>3</th>\n",
       "      <td>3</td>\n",
       "      <td>GJ1002</td>\n",
       "      <td>4.69</td>\n",
       "      <td>12847</td>\n",
       "      <td>/datag/pipeline/AGBT16B_999_82/collate/spliced...</td>\n",
       "      <td>/datax/scratch/benjb/bl_nearby_stars/seticore_...</td>\n",
       "      <td>Rcvr4_6</td>\n",
       "    </tr>\n",
       "    <tr>\n",
       "      <th>4</th>\n",
       "      <td>4</td>\n",
       "      <td>GJ1002</td>\n",
       "      <td>4.69</td>\n",
       "      <td>12847</td>\n",
       "      <td>/datag/pipeline/AGBT16B_999_82/collate/spliced...</td>\n",
       "      <td>/datax/scratch/benjb/bl_nearby_stars/seticore_...</td>\n",
       "      <td>Rcvr4_6</td>\n",
       "    </tr>\n",
       "    <tr>\n",
       "      <th>...</th>\n",
       "      <td>...</td>\n",
       "      <td>...</td>\n",
       "      <td>...</td>\n",
       "      <td>...</td>\n",
       "      <td>...</td>\n",
       "      <td>...</td>\n",
       "      <td>...</td>\n",
       "    </tr>\n",
       "    <tr>\n",
       "      <th>10237</th>\n",
       "      <td>10237</td>\n",
       "      <td>SO0253</td>\n",
       "      <td>3.85</td>\n",
       "      <td>421558</td>\n",
       "      <td>/datag/pipeline/AGBT23B_999_14/blc76_blp36/blc...</td>\n",
       "      <td>/datax/scratch/benjb/bl_nearby_stars/seticore_...</td>\n",
       "      <td>Rcvr8_10</td>\n",
       "    </tr>\n",
       "    <tr>\n",
       "      <th>10238</th>\n",
       "      <td>10238</td>\n",
       "      <td>SO0253</td>\n",
       "      <td>3.85</td>\n",
       "      <td>421558</td>\n",
       "      <td>/datag/pipeline/AGBT23B_999_14/blc76_blp36/blc...</td>\n",
       "      <td>/datax/scratch/benjb/bl_nearby_stars/seticore_...</td>\n",
       "      <td>Rcvr8_10</td>\n",
       "    </tr>\n",
       "    <tr>\n",
       "      <th>10239</th>\n",
       "      <td>10239</td>\n",
       "      <td>SO0253</td>\n",
       "      <td>3.85</td>\n",
       "      <td>421558</td>\n",
       "      <td>/datag/pipeline/AGBT23B_999_14/blc76_blp36/blc...</td>\n",
       "      <td>/datax/scratch/benjb/bl_nearby_stars/seticore_...</td>\n",
       "      <td>Rcvr8_10</td>\n",
       "    </tr>\n",
       "    <tr>\n",
       "      <th>10240</th>\n",
       "      <td>10240</td>\n",
       "      <td>SO0253</td>\n",
       "      <td>3.85</td>\n",
       "      <td>421558</td>\n",
       "      <td>/datag/pipeline/AGBT23B_999_14/blc76_blp36/blc...</td>\n",
       "      <td>/datax/scratch/benjb/bl_nearby_stars/seticore_...</td>\n",
       "      <td>Rcvr8_10</td>\n",
       "    </tr>\n",
       "    <tr>\n",
       "      <th>10241</th>\n",
       "      <td>10241</td>\n",
       "      <td>SO0253</td>\n",
       "      <td>3.85</td>\n",
       "      <td>421558</td>\n",
       "      <td>/datag/pipeline/AGBT23B_999_14/blc76_blp36/blc...</td>\n",
       "      <td>/datax/scratch/benjb/bl_nearby_stars/seticore_...</td>\n",
       "      <td>Rcvr8_10</td>\n",
       "    </tr>\n",
       "  </tbody>\n",
       "</table>\n",
       "<p>10242 rows × 7 columns</p>\n",
       "</div>"
      ],
      "text/plain": [
       "       Unnamed: 0  Target  Distance  Cadence ID  \\\n",
       "0               0  GJ1002      4.69       12847   \n",
       "1               1  GJ1002      4.69       12847   \n",
       "2               2  GJ1002      4.69       12847   \n",
       "3               3  GJ1002      4.69       12847   \n",
       "4               4  GJ1002      4.69       12847   \n",
       "...           ...     ...       ...         ...   \n",
       "10237       10237  SO0253      3.85      421558   \n",
       "10238       10238  SO0253      3.85      421558   \n",
       "10239       10239  SO0253      3.85      421558   \n",
       "10240       10240  SO0253      3.85      421558   \n",
       "10241       10241  SO0253      3.85      421558   \n",
       "\n",
       "                                                .h5 path  \\\n",
       "0      /datag/pipeline/AGBT16B_999_82/collate/spliced...   \n",
       "1      /datag/pipeline/AGBT16B_999_82/collate/spliced...   \n",
       "2      /datag/pipeline/AGBT16B_999_82/collate/spliced...   \n",
       "3      /datag/pipeline/AGBT16B_999_82/collate/spliced...   \n",
       "4      /datag/pipeline/AGBT16B_999_82/collate/spliced...   \n",
       "...                                                  ...   \n",
       "10237  /datag/pipeline/AGBT23B_999_14/blc76_blp36/blc...   \n",
       "10238  /datag/pipeline/AGBT23B_999_14/blc76_blp36/blc...   \n",
       "10239  /datag/pipeline/AGBT23B_999_14/blc76_blp36/blc...   \n",
       "10240  /datag/pipeline/AGBT23B_999_14/blc76_blp36/blc...   \n",
       "10241  /datag/pipeline/AGBT23B_999_14/blc76_blp36/blc...   \n",
       "\n",
       "                                               .dat path  Receiver  \n",
       "0      /datax/scratch/benjb/bl_nearby_stars/seticore_...   Rcvr4_6  \n",
       "1      /datax/scratch/benjb/bl_nearby_stars/seticore_...   Rcvr4_6  \n",
       "2      /datax/scratch/benjb/bl_nearby_stars/seticore_...   Rcvr4_6  \n",
       "3      /datax/scratch/benjb/bl_nearby_stars/seticore_...   Rcvr4_6  \n",
       "4      /datax/scratch/benjb/bl_nearby_stars/seticore_...   Rcvr4_6  \n",
       "...                                                  ...       ...  \n",
       "10237  /datax/scratch/benjb/bl_nearby_stars/seticore_...  Rcvr8_10  \n",
       "10238  /datax/scratch/benjb/bl_nearby_stars/seticore_...  Rcvr8_10  \n",
       "10239  /datax/scratch/benjb/bl_nearby_stars/seticore_...  Rcvr8_10  \n",
       "10240  /datax/scratch/benjb/bl_nearby_stars/seticore_...  Rcvr8_10  \n",
       "10241  /datax/scratch/benjb/bl_nearby_stars/seticore_...  Rcvr8_10  \n",
       "\n",
       "[10242 rows x 7 columns]"
      ]
     },
     "execution_count": 2,
     "metadata": {},
     "output_type": "execute_result"
    }
   ],
   "source": [
    "df0 = pd.read_csv('/datax/scratch/benjb/bl_nearby_stars/star_cadences_5.1_catalog.csv')\n",
    "d1 = df0.iloc[np.where((df0['Target'].values == 'GJ15A') & (df0['Receiver'].values == 'Rcvr1_2'))[0]]\n",
    "#for i in d1['.h5 path'].values:\n",
    "#    if ('GJ15A' in i):\n",
    "#        print(i)\n",
    "df0"
   ]
  },
  {
   "cell_type": "code",
   "execution_count": 256,
   "metadata": {},
   "outputs": [
    {
     "name": "stdout",
     "output_type": "stream",
     "text": [
      "1549 Rcvr1_2 /datax/scratch/benjb/bl_nearby_stars/seticore_output/within_5.1_pc/spliced_blc02030405_2bit_guppi_57499_12323_GJ388_OFF_0031.gpuspec.0000.dat\n",
      "6762 Rcvr1_2 /datax/scratch/benjb/bl_nearby_stars/seticore_output/within_5.1_pc/spliced_blc02030405_2bit_guppi_57457_48334_GJ699_OFF_0004.gpuspec.0000.dat\n",
      "1281 Rcvr1_2 /datax/scratch/benjb/bl_nearby_stars/seticore_output/within_5.1_pc/spliced_blc02030405_2bit_guppi_57493_77777_HIP19849_OFF_0003.gpuspec.0000.dat\n",
      "6363 Rcvr1_2 /datax/scratch/benjb/bl_nearby_stars/seticore_output/within_5.1_pc/spliced_blc02030405_2bit_guppi_57446_56253_HIP88601_OFF_0016.gpuspec.0000.dat\n"
     ]
    }
   ],
   "source": [
    "for i, dat in enumerate(df0['.dat path'].values[::6]):\n",
    "    if 'OFF' in dat:\n",
    "        print(df0['Cadence ID'].values[6*i], df0['Receiver'].values[6*i], dat)"
   ]
  },
  {
   "cell_type": "code",
   "execution_count": 240,
   "metadata": {},
   "outputs": [
    {
     "name": "stdout",
     "output_type": "stream",
     "text": [
      "10242\n"
     ]
    }
   ],
   "source": [
    "print(len(df0))"
   ]
  },
  {
   "cell_type": "code",
   "execution_count": 246,
   "metadata": {},
   "outputs": [
    {
     "name": "stdout",
     "output_type": "stream",
     "text": [
      "(66, 2)\n",
      "(53, 2)\n",
      "(62, 2)\n",
      "(59, 2)\n"
     ]
    }
   ],
   "source": [
    "lcadences = np.transpose(np.array([\n",
    "    df0['Receiver'].values[np.where(df0['Receiver'].values == 'Rcvr1_2')[0]],\n",
    "    df0['Cadence ID'].values[np.where(df0['Receiver'].values == 'Rcvr1_2')[0]]\n",
    "], dtype=str))\n",
    "ulcadences = np.unique(lcadences, axis=0)\n",
    "print(ulcadences.shape)\n",
    "scadences = np.transpose(np.array([\n",
    "    df0['Receiver'].values[np.where(df0['Receiver'].values == 'Rcvr2_3')[0]],\n",
    "    df0['Cadence ID'].values[np.where(df0['Receiver'].values == 'Rcvr2_3')[0]]\n",
    "], dtype=str))\n",
    "uscadences = np.unique(scadences, axis=0)\n",
    "print(uscadences.shape)\n",
    "ccadences = np.transpose(np.array([\n",
    "    df0['Receiver'].values[np.where(df0['Receiver'].values == 'Rcvr4_6')[0]],\n",
    "    df0['Cadence ID'].values[np.where(df0['Receiver'].values == 'Rcvr4_6')[0]]\n",
    "], dtype=str))\n",
    "uccadences = np.unique(ccadences, axis=0)\n",
    "print(uccadences.shape)\n",
    "xcadences = np.transpose(np.array([\n",
    "    df0['Receiver'].values[np.where(df0['Receiver'].values == 'Rcvr8_10')[0]],\n",
    "    df0['Cadence ID'].values[np.where(df0['Receiver'].values == 'Rcvr8_10')[0]]\n",
    "], dtype=str))\n",
    "uxcadences = np.unique(xcadences, axis=0)\n",
    "print(uxcadences.shape)"
   ]
  },
  {
   "cell_type": "code",
   "execution_count": 239,
   "metadata": {},
   "outputs": [
    {
     "name": "stdout",
     "output_type": "stream",
     "text": [
      "122.0\n",
      "59.0\n",
      "716.0\n",
      "810.0\n"
     ]
    }
   ],
   "source": [
    "print(len(np.where(df0['Receiver'].values == 'Rcvr1_2')[0])/6)\n",
    "print(len(np.where(df0['Receiver'].values == 'Rcvr2_3')[0])/6)\n",
    "print(len(np.where(df0['Receiver'].values == 'Rcvr4_6')[0])/6)\n",
    "print(len(np.where(df0['Receiver'].values == 'Rcvr8_10')[0])/6)"
   ]
  },
  {
   "cell_type": "code",
   "execution_count": 218,
   "metadata": {},
   "outputs": [
    {
     "name": "stdout",
     "output_type": "stream",
     "text": [
      "0.1875\n",
      "0.1875\n",
      "0.1875\n",
      "0.1875\n",
      "0.1875\n",
      "0.1875\n"
     ]
    }
   ],
   "source": [
    "h5_list = [\n",
    "    '/datag/pipeline/AGBT23A_999_37/blc01_blp01/blc01_guppi_60223_03425_GJ15A_0010.rawspec.0000.h5',\n",
    "    '/datag/pipeline/AGBT23A_999_37/blc02_blp02/blc02_guppi_60223_03425_GJ15A_0010.rawspec.0000.h5',\n",
    "    '/datag/pipeline/AGBT23A_999_37/blc03_blp03/blc03_guppi_60223_03425_GJ15A_0010.rawspec.0000.h5',\n",
    "    '/datag/pipeline/AGBT23A_999_37/blc04_blp04/blc04_guppi_60223_03425_GJ15A_0010.rawspec.0000.h5',\n",
    "    '/datag/pipeline/AGBT23A_999_37/blc05_blp05/blc05_guppi_60223_03425_GJ15A_0010.rawspec.0000.h5',\n",
    "    '/datag/pipeline/AGBT23A_999_37/blc06_blp06/blc06_guppi_60223_03425_GJ15A_0010.rawspec.0000.h5'\n",
    "]\n",
    "\n",
    "for h5 in h5_list:\n",
    "    fb = bl.Waterfall(h5, load_data=False)\n",
    "    ghz = fb.header['nchans']*2.7939677238464355e-06/1e3\n",
    "    print(ghz)"
   ]
  },
  {
   "cell_type": "code",
   "execution_count": 94,
   "metadata": {},
   "outputs": [
    {
     "name": "stdout",
     "output_type": "stream",
     "text": [
      "2591 png files in trimmed list (no OFFs)\n",
      "2629 png files in full list\n",
      "38 erroneous OFFs\n"
     ]
    }
   ],
   "source": [
    "png_list = glob.glob('/datax/scratch/benjb/bl_nearby_stars/seticore_output/within_5.1_pc/pngs/*.png')\n",
    "trimmed_png_list = []\n",
    "for png in png_list:\n",
    "    if not 'OFF' in png:\n",
    "        trimmed_png_list.append(png)\n",
    "    #else:\n",
    "    #    print(os.path.basename(png))\n",
    "print(len(trimmed_png_list), 'png files in trimmed list (no OFFs)')\n",
    "print(len(png_list), 'png files in full list')\n",
    "print(len(png_list) - len(trimmed_png_list), 'erroneous OFFs')"
   ]
  },
  {
   "cell_type": "code",
   "execution_count": 95,
   "metadata": {},
   "outputs": [
    {
     "name": "stdout",
     "output_type": "stream",
     "text": [
      "/datax/scratch/benjb/bl_nearby_stars/seticore_output/within_5.1_pc/3635_GJ1002_Rcvr1_2_splic_f3_trimmed.csv\n",
      "136 CSV files\n",
      "Continuing ...\n",
      "Continuing ...\n",
      "Continuing ...\n",
      "Continuing ...\n",
      "642 L-band events\n",
      "37 S-band events\n",
      "1494 C-band events\n",
      "418 X-band events\n",
      "2591 total events\n"
     ]
    }
   ],
   "source": [
    "csv_list = glob.glob('/datax/scratch/benjb/bl_nearby_stars/seticore_output/within_5.1_pc/*_trimmed.csv')\n",
    "print(csv_list[0])\n",
    "event_fvec_L = []\n",
    "event_dvec_L = []\n",
    "event_svec_L = []\n",
    "event_fvec_S = []\n",
    "event_dvec_S = []\n",
    "event_svec_S = []\n",
    "event_fvec_C = []\n",
    "event_dvec_C = []\n",
    "event_svec_C = []\n",
    "event_fvec_X = []\n",
    "event_dvec_X = []\n",
    "event_svec_X = []\n",
    "\n",
    "found_png_list = []\n",
    "print(len(csv_list), 'CSV files')\n",
    "for csv in csv_list:\n",
    "    cadence = os.path.basename(csv).split('_')[0]\n",
    "    if (cadence == '1549') | (cadence == '6762') | (cadence == '1281') | (cadence == '6363'):\n",
    "        print('Continuing ...')\n",
    "        continue\n",
    "    df = pd.read_csv(csv)\n",
    "    if 'Rcvr1_2' in csv:\n",
    "        event_fvec_L.append(df['Freq'].values)\n",
    "        event_dvec_L.append(df['DriftRate'].values)\n",
    "        event_svec_L.append(df['SNR'].values)\n",
    "    if 'Rcvr2_3' in csv:\n",
    "        event_fvec_S.append(df['Freq'].values)\n",
    "        event_dvec_S.append(df['DriftRate'].values)\n",
    "        event_svec_S.append(df['SNR'].values)\n",
    "    if 'Rcvr4_6' in csv:\n",
    "        event_fvec_C.append(df['Freq'].values)\n",
    "        event_dvec_C.append(df['DriftRate'].values)\n",
    "        event_svec_C.append(df['SNR'].values)\n",
    "    if 'Rcvr8_10' in csv:\n",
    "        event_fvec_X.append(df['Freq'].values)\n",
    "        event_dvec_X.append(df['DriftRate'].values)\n",
    "        event_svec_X.append(df['SNR'].values)\n",
    "    target = os.path.basename(csv).split('_')[1]\n",
    "    found_png_list.append([target, len(df['Freq'].values)])\n",
    "    # for i in range(len(df['Freq'].values)):\n",
    "    #     f = df['Freq'].values[i]\n",
    "    #     d = df['DriftRate'].values[i]\n",
    "    #     target = os.path.basename(csv).split('_')[1]\n",
    "    #     bandwidth = 2.4 * abs(d)/1e6 * 300*6\n",
    "    #     bandwidth = np.max((bandwidth, 500./1e6))\n",
    "    #     f_start = f - (bandwidth/2)\n",
    "    #     if i != 100:\n",
    "    #         print(target, f, f_start, str(np.round(f+np.round(d,2)*2342.1052631578946/1000000, 6)), \n",
    "    #               str(np.trunc((f+np.round(d,2)*2342.1052631578946/1000000)*1e3)/1e3), str(np.round(d, 2)))\n",
    "    #         print(csv)\n",
    "    #     possible_pngs = []\n",
    "    #     for png in png_list:\n",
    "    #         if (target in png) & (str(np.trunc((f+np.round(d,2)*2342.1052631578946/1000000)*1e3)/1e3) in png) & (str(np.round(d, 2)) in png):\n",
    "    #             possible_pngs.append(png)\n",
    "    #     if len(possible_pngs) > 1: \n",
    "    #         print('Error! PNG matching ambiguous.')\n",
    "    #         continue\n",
    "    #     if len(possible_pngs) == 0:\n",
    "    #         print('Error! PNG not found.')\n",
    "    #         continue\n",
    "    #     found_png_list.append(possible_pngs[0])\n",
    "        \n",
    "event_fvec_L = np.concatenate(event_fvec_L)\n",
    "event_dvec_L = np.concatenate(event_dvec_L)\n",
    "event_svec_L = np.concatenate(event_svec_L)\n",
    "event_fvec_S = np.concatenate(event_fvec_S)\n",
    "event_dvec_S = np.concatenate(event_dvec_S)\n",
    "event_svec_S = np.concatenate(event_svec_S)\n",
    "event_fvec_C = np.concatenate(event_fvec_C)\n",
    "event_dvec_C = np.concatenate(event_dvec_C)\n",
    "event_svec_C = np.concatenate(event_svec_C)\n",
    "event_fvec_X = np.concatenate(event_fvec_X)\n",
    "event_dvec_X = np.concatenate(event_dvec_X)\n",
    "event_svec_X = np.concatenate(event_svec_X)\n",
    "print(len(event_fvec_L), 'L-band events')\n",
    "print(len(event_fvec_S), 'S-band events')\n",
    "print(len(event_fvec_C), 'C-band events')\n",
    "print(len(event_fvec_X), 'X-band events')\n",
    "print(len(event_fvec_L)+len(event_fvec_S)+len(event_fvec_C)+len(event_fvec_X), 'total events')"
   ]
  },
  {
   "cell_type": "code",
   "execution_count": 65,
   "metadata": {},
   "outputs": [],
   "source": [
    "found_png_list = np.array(found_png_list)\n",
    "event_counts = []\n",
    "for t in np.unique(found_png_list[:,0]):\n",
    "    all_target_instances = found_png_list[np.where(found_png_list[:,0] == t)[0]]\n",
    "    count = np.sum(all_target_instances[:,1].astype(int))\n",
    "    event_counts.append([t, count])"
   ]
  },
  {
   "cell_type": "code",
   "execution_count": 66,
   "metadata": {},
   "outputs": [
    {
     "name": "stdout",
     "output_type": "stream",
     "text": [
      "['GJ1002', 7]\n",
      "['GJ1111', 1]\n",
      "['GJ1245AC', 3]\n",
      "['GJ1245B', 18]\n",
      "['GJ144', 15]\n",
      "['GJ15A', 5]\n",
      "['GJ15B', 1]\n",
      "['GJ166', 6]\n",
      "['GJ166BC', 7]\n",
      "['GJ234', 11]\n",
      "['GJ244', 5]\n",
      "['GJ273', 197]\n",
      "['GJ280', 4]\n",
      "['GJ380', 21]\n",
      "['GJ388', 17]\n",
      "['GJ406', 10]\n",
      "['GJ411', 12]\n",
      "['GJ412A', 31]\n",
      "['GJ412B', 33]\n",
      "['GJ447', 388]\n",
      "['GJ473AB', 10]\n",
      "['GJ54.1', 1]\n",
      "['GJ628', 7]\n",
      "['GJ65A', 9]\n",
      "['GJ687', 14]\n",
      "['GJ699', 28]\n",
      "['GJ702A', 42]\n",
      "['GJ702B', 1029]\n",
      "['GJ71', 15]\n",
      "['GJ725', 76]\n",
      "['GJ820A', 5]\n",
      "['GJ820B', 7]\n",
      "['GJ83.1', 2]\n",
      "['GJ860A', 3]\n",
      "['GJ860B', 4]\n",
      "['GJ866', 5]\n",
      "['GJ873', 4]\n",
      "['GJ876', 449]\n",
      "['GJ905', 4]\n",
      "['HIP19849', 16]\n",
      "['HIP88601', 91]\n",
      "['SO0253', 11]\n"
     ]
    }
   ],
   "source": [
    "for i in range(len(event_counts)):\n",
    "    print(event_counts[i])"
   ]
  },
  {
   "cell_type": "code",
   "execution_count": 49,
   "metadata": {},
   "outputs": [
    {
     "name": "stdout",
     "output_type": "stream",
     "text": [
      "1.6416\n"
     ]
    }
   ],
   "source": [
    "bandwidth = 2.4 * abs(0.76)/1e6 * 300*6\n",
    "print(bandwidth*1000/2)"
   ]
  },
  {
   "cell_type": "code",
   "execution_count": 70,
   "metadata": {},
   "outputs": [
    {
     "name": "stdout",
     "output_type": "stream",
     "text": [
      "['GJ1002' '7'] 7\n",
      "['GJ1111' '1'] 1\n",
      "['GJ1245AC' '3'] 3\n",
      "['GJ1245B' '18'] 18\n",
      "['GJ144' '15'] 15\n",
      "['GJ15A' '5'] 5\n",
      "['GJ15B' '1'] 1\n",
      "['GJ166' '6'] 6\n",
      "['GJ166BC' '7'] 7\n",
      "['GJ234' '11'] 11\n",
      "['GJ244' '5'] 5\n",
      "['GJ273' '197'] 197\n",
      "['GJ280' '4'] 4\n",
      "['GJ380' '21'] 21\n",
      "['GJ388' '17'] 17\n",
      "['GJ406' '10'] 10\n",
      "['GJ411' '12'] 12\n",
      "['GJ412A' '36'] 31\n",
      "['GJ412B' '33'] 33\n",
      "['GJ447' '388'] 388\n",
      "['GJ473AB' '10'] 10\n",
      "['GJ54.1' '1'] 1\n",
      "['GJ628' '7'] 7\n",
      "['GJ65A' '9'] 9\n",
      "['GJ687' '14'] 14\n",
      "['GJ699' '28'] 28\n",
      "['GJ702A' '42'] 42\n",
      "['GJ702B' '1029'] 1029\n",
      "['GJ71' '15'] 15\n",
      "['GJ725' '76'] 76\n",
      "['GJ820A' '5'] 5\n",
      "['GJ820B' '7'] 7\n",
      "['GJ83.1' '2'] 2\n",
      "['GJ860A' '3'] 3\n",
      "['GJ860B' '4'] 4\n",
      "['GJ866' '5'] 5\n",
      "['GJ873' '4'] 4\n",
      "['GJ876' '449'] 449\n",
      "['GJ905' '4'] 4\n",
      "['HIP19849' '16'] 16\n",
      "['HIP88601' '91'] 91\n",
      "['SO0253' '11'] 11\n"
     ]
    }
   ],
   "source": [
    "png_targets = []\n",
    "\n",
    "for png in png_list:\n",
    "    t = os.path.basename(png).split('_')[1]\n",
    "    png_targets.append(t)\n",
    "u_pngs, counts = np.unique(png_targets, return_counts=True)\n",
    "png_counts = np.transpose([u_pngs, counts])\n",
    "for i in range(len(png_counts)):\n",
    "    print(png_counts[i], event_counts[i][1])"
   ]
  },
  {
   "cell_type": "code",
   "execution_count": 89,
   "metadata": {},
   "outputs": [
    {
     "name": "stdout",
     "output_type": "stream",
     "text": [
      "/datax/scratch/benjb/bl_nearby_stars/seticore_output/within_5.1_pc/20855_HIP88601_Rcvr4_6_splic_f3_trimmed.csv\n",
      "/datax/scratch/benjb/bl_nearby_stars/seticore_output/within_5.1_pc/6362_HIP88601_Rcvr1_2_splic_f3_trimmed.csv\n",
      "/datax/scratch/benjb/bl_nearby_stars/seticore_output/within_5.1_pc/6363_HIP88601_Rcvr1_2_splic_f3_trimmed.csv\n"
     ]
    }
   ],
   "source": [
    "test_csvs = glob.glob('/datax/scratch/benjb/bl_nearby_stars/seticore_output/within_5.1_pc/*HIP88601*trimmed.csv')\n",
    "for i in test_csvs:\n",
    "    print(i)"
   ]
  },
  {
   "cell_type": "code",
   "execution_count": 91,
   "metadata": {},
   "outputs": [
    {
     "name": "stdout",
     "output_type": "stream",
     "text": [
      "/datag/pipeline/AGBT16A_999_65/holding/spliced_blc02030405_2bit_guppi_57446_56253_HIP88601_OFF_0016.gpuspec.0000.h5\n",
      "/datag/pipeline/AGBT16A_999_65/holding/spliced_blc02030405_2bit_guppi_57446_56579_HIP88601_0017.gpuspec.0000.h5\n",
      "/datag/pipeline/AGBT16A_999_65/holding/spliced_blc02030405_2bit_guppi_57446_56905_HIP88601_OFF_0018.gpuspec.0000.h5\n",
      "/datag/pipeline/AGBT16A_999_65/holding/spliced_blc02030405_2bit_guppi_57446_57231_HIP88601_0019.gpuspec.0000.h5\n",
      "/datag/pipeline/AGBT16A_999_65/holding/spliced_blc02030405_2bit_guppi_57446_57557_HIP88601_OFF_0020.gpuspec.0000.h5\n",
      "/datag/pipeline/AGBT16A_999_65/holding/spliced_blc02030405_2bit_guppi_57446_57915_HIP93101_0021.gpuspec.0000.h5\n"
     ]
    }
   ],
   "source": [
    "file = '/datax/scratch/benjb/bl_nearby_stars/seticore_output/within_5.1_pc/spliced_blc04_guppi_57563_75522_GJ412A_0027.gpuspec.0000.dat'\n",
    "file2 = '/datax/scratch/benjb/bl_nearby_stars/seticore_output/within_5.1_pc/spliced_blc00010203050607_guppi_57563_75522_GJ412A_0027.gpuspec.0000.dat'\n",
    "dft = df0.iloc[np.where(df0['Cadence ID'].values == 6363)[0]]\n",
    "for i in range(len(dft)):\n",
    "    print(dft['.h5 path'].values[i])"
   ]
  },
  {
   "cell_type": "code",
   "execution_count": 86,
   "metadata": {},
   "outputs": [
    {
     "name": "stdout",
     "output_type": "stream",
     "text": [
      "/datax/scratch/benjb/bl_nearby_stars/seticore_output/within_5.1_pc/spliced_blc0001020304050607_guppi_57708_21879_HIP19849_0015.gpuspec.0000.dat\n",
      "/datax/scratch/benjb/bl_nearby_stars/seticore_output/within_5.1_pc/spliced_blc0001020304050607_guppi_57708_22558_HIP19849_0017.gpuspec.0000.dat\n",
      "/datax/scratch/benjb/bl_nearby_stars/seticore_output/within_5.1_pc/spliced_blc0001020304050607_guppi_57708_23238_HIP19849_0019.gpuspec.0000.dat\n",
      "/datax/scratch/benjb/bl_nearby_stars/seticore_output/within_5.1_pc/spliced_blc02030405_2bit_guppi_57493_77450_HIP19849_0002.gpuspec.0000.dat\n",
      "/datax/scratch/benjb/bl_nearby_stars/seticore_output/within_5.1_pc/spliced_blc02030405_2bit_guppi_57493_77777_HIP19849_OFF_0003.gpuspec.0000.dat\n",
      "/datax/scratch/benjb/bl_nearby_stars/seticore_output/within_5.1_pc/spliced_blc02030405_2bit_guppi_57493_78104_HIP19849_0004.gpuspec.0000.dat\n",
      "/datax/scratch/benjb/bl_nearby_stars/seticore_output/within_5.1_pc/spliced_blc02030405_2bit_guppi_57493_78431_HIP19849_OFF_0005.gpuspec.0000.dat\n",
      "/datax/scratch/benjb/bl_nearby_stars/seticore_output/within_5.1_pc/spliced_blc02030405_2bit_guppi_57493_78758_HIP19849_0006.gpuspec.0000.dat\n",
      "/datax/scratch/benjb/bl_nearby_stars/seticore_output/within_5.1_pc/spliced_blc02030405_2bit_guppi_57493_79085_HIP19849_OFF_0007.gpuspec.0000.dat\n",
      "/datax/scratch/benjb/bl_nearby_stars/seticore_output/within_5.1_pc/blc41_guppi_60274_30523_HIP19849_0085.rawspec.0000.dat\n",
      "/datax/scratch/benjb/bl_nearby_stars/seticore_output/within_5.1_pc/blc41_guppi_60274_31193_HIP19849_0087.rawspec.0000.dat\n",
      "/datax/scratch/benjb/bl_nearby_stars/seticore_output/within_5.1_pc/blc41_guppi_60274_31855_HIP19849_0089.rawspec.0000.dat\n",
      "/datax/scratch/benjb/bl_nearby_stars/seticore_output/within_5.1_pc/blc42_guppi_60274_30523_HIP19849_0085.rawspec.0000.dat\n",
      "/datax/scratch/benjb/bl_nearby_stars/seticore_output/within_5.1_pc/blc42_guppi_60274_31193_HIP19849_0087.rawspec.0000.dat\n",
      "/datax/scratch/benjb/bl_nearby_stars/seticore_output/within_5.1_pc/blc42_guppi_60274_31855_HIP19849_0089.rawspec.0000.dat\n",
      "/datax/scratch/benjb/bl_nearby_stars/seticore_output/within_5.1_pc/blc43_guppi_60274_30523_HIP19849_0085.rawspec.0000.dat\n",
      "/datax/scratch/benjb/bl_nearby_stars/seticore_output/within_5.1_pc/blc43_guppi_60274_31193_HIP19849_0087.rawspec.0000.dat\n",
      "/datax/scratch/benjb/bl_nearby_stars/seticore_output/within_5.1_pc/blc43_guppi_60274_31855_HIP19849_0089.rawspec.0000.dat\n",
      "/datax/scratch/benjb/bl_nearby_stars/seticore_output/within_5.1_pc/blc44_guppi_60274_30523_HIP19849_0085.rawspec.0000.dat\n",
      "/datax/scratch/benjb/bl_nearby_stars/seticore_output/within_5.1_pc/blc44_guppi_60274_31193_HIP19849_0087.rawspec.0000.dat\n",
      "/datax/scratch/benjb/bl_nearby_stars/seticore_output/within_5.1_pc/blc44_guppi_60274_31855_HIP19849_0089.rawspec.0000.dat\n",
      "/datax/scratch/benjb/bl_nearby_stars/seticore_output/within_5.1_pc/blc45_guppi_60274_30523_HIP19849_0085.rawspec.0000.dat\n",
      "/datax/scratch/benjb/bl_nearby_stars/seticore_output/within_5.1_pc/blc45_guppi_60274_31193_HIP19849_0087.rawspec.0000.dat\n",
      "/datax/scratch/benjb/bl_nearby_stars/seticore_output/within_5.1_pc/blc45_guppi_60274_31855_HIP19849_0089.rawspec.0000.dat\n",
      "/datax/scratch/benjb/bl_nearby_stars/seticore_output/within_5.1_pc/blc46_guppi_60274_30523_HIP19849_0085.rawspec.0000.dat\n",
      "/datax/scratch/benjb/bl_nearby_stars/seticore_output/within_5.1_pc/blc46_guppi_60274_31193_HIP19849_0087.rawspec.0000.dat\n",
      "/datax/scratch/benjb/bl_nearby_stars/seticore_output/within_5.1_pc/blc46_guppi_60274_31855_HIP19849_0089.rawspec.0000.dat\n",
      "/datax/scratch/benjb/bl_nearby_stars/seticore_output/within_5.1_pc/blc47_guppi_60274_30523_HIP19849_0085.rawspec.0000.dat\n",
      "/datax/scratch/benjb/bl_nearby_stars/seticore_output/within_5.1_pc/blc47_guppi_60274_31193_HIP19849_0087.rawspec.0000.dat\n",
      "/datax/scratch/benjb/bl_nearby_stars/seticore_output/within_5.1_pc/blc47_guppi_60274_31855_HIP19849_0089.rawspec.0000.dat\n",
      "/datax/scratch/benjb/bl_nearby_stars/seticore_output/within_5.1_pc/blc50_guppi_60274_30523_HIP19849_0085.rawspec.0000.dat\n",
      "/datax/scratch/benjb/bl_nearby_stars/seticore_output/within_5.1_pc/blc50_guppi_60274_31193_HIP19849_0087.rawspec.0000.dat\n",
      "/datax/scratch/benjb/bl_nearby_stars/seticore_output/within_5.1_pc/blc50_guppi_60274_31855_HIP19849_0089.rawspec.0000.dat\n",
      "/datax/scratch/benjb/bl_nearby_stars/seticore_output/within_5.1_pc/blc51_guppi_60274_30523_HIP19849_0085.rawspec.0000.dat\n",
      "/datax/scratch/benjb/bl_nearby_stars/seticore_output/within_5.1_pc/blc51_guppi_60274_31193_HIP19849_0087.rawspec.0000.dat\n",
      "/datax/scratch/benjb/bl_nearby_stars/seticore_output/within_5.1_pc/blc51_guppi_60274_31855_HIP19849_0089.rawspec.0000.dat\n",
      "/datax/scratch/benjb/bl_nearby_stars/seticore_output/within_5.1_pc/blc52_guppi_60274_30523_HIP19849_0085.rawspec.0000.dat\n",
      "/datax/scratch/benjb/bl_nearby_stars/seticore_output/within_5.1_pc/blc52_guppi_60274_31193_HIP19849_0087.rawspec.0000.dat\n",
      "/datax/scratch/benjb/bl_nearby_stars/seticore_output/within_5.1_pc/blc52_guppi_60274_31855_HIP19849_0089.rawspec.0000.dat\n",
      "/datax/scratch/benjb/bl_nearby_stars/seticore_output/within_5.1_pc/blc53_guppi_60274_30523_HIP19849_0085.rawspec.0000.dat\n",
      "/datax/scratch/benjb/bl_nearby_stars/seticore_output/within_5.1_pc/blc53_guppi_60274_31193_HIP19849_0087.rawspec.0000.dat\n",
      "/datax/scratch/benjb/bl_nearby_stars/seticore_output/within_5.1_pc/blc53_guppi_60274_31855_HIP19849_0089.rawspec.0000.dat\n",
      "/datax/scratch/benjb/bl_nearby_stars/seticore_output/within_5.1_pc/blc54_guppi_60274_30523_HIP19849_0085.rawspec.0000.dat\n",
      "/datax/scratch/benjb/bl_nearby_stars/seticore_output/within_5.1_pc/blc54_guppi_60274_31193_HIP19849_0087.rawspec.0000.dat\n",
      "/datax/scratch/benjb/bl_nearby_stars/seticore_output/within_5.1_pc/blc54_guppi_60274_31855_HIP19849_0089.rawspec.0000.dat\n",
      "/datax/scratch/benjb/bl_nearby_stars/seticore_output/within_5.1_pc/blc55_guppi_60274_30523_HIP19849_0085.rawspec.0000.dat\n",
      "/datax/scratch/benjb/bl_nearby_stars/seticore_output/within_5.1_pc/blc55_guppi_60274_31193_HIP19849_0087.rawspec.0000.dat\n",
      "/datax/scratch/benjb/bl_nearby_stars/seticore_output/within_5.1_pc/blc55_guppi_60274_31855_HIP19849_0089.rawspec.0000.dat\n",
      "/datax/scratch/benjb/bl_nearby_stars/seticore_output/within_5.1_pc/blc56_guppi_60274_30523_HIP19849_0085.rawspec.0000.dat\n",
      "/datax/scratch/benjb/bl_nearby_stars/seticore_output/within_5.1_pc/blc56_guppi_60274_31193_HIP19849_0087.rawspec.0000.dat\n",
      "/datax/scratch/benjb/bl_nearby_stars/seticore_output/within_5.1_pc/blc56_guppi_60274_31855_HIP19849_0089.rawspec.0000.dat\n",
      "/datax/scratch/benjb/bl_nearby_stars/seticore_output/within_5.1_pc/blc57_guppi_60274_30523_HIP19849_0085.rawspec.0000.dat\n",
      "/datax/scratch/benjb/bl_nearby_stars/seticore_output/within_5.1_pc/blc57_guppi_60274_31193_HIP19849_0087.rawspec.0000.dat\n",
      "/datax/scratch/benjb/bl_nearby_stars/seticore_output/within_5.1_pc/blc57_guppi_60274_31855_HIP19849_0089.rawspec.0000.dat\n",
      "/datax/scratch/benjb/bl_nearby_stars/seticore_output/within_5.1_pc/blc60_guppi_60274_30523_HIP19849_0085.rawspec.0000.dat\n",
      "/datax/scratch/benjb/bl_nearby_stars/seticore_output/within_5.1_pc/blc60_guppi_60274_31193_HIP19849_0087.rawspec.0000.dat\n",
      "/datax/scratch/benjb/bl_nearby_stars/seticore_output/within_5.1_pc/blc60_guppi_60274_31855_HIP19849_0089.rawspec.0000.dat\n",
      "/datax/scratch/benjb/bl_nearby_stars/seticore_output/within_5.1_pc/blc61_guppi_60274_30523_HIP19849_0085.rawspec.0000.dat\n",
      "/datax/scratch/benjb/bl_nearby_stars/seticore_output/within_5.1_pc/blc61_guppi_60274_31193_HIP19849_0087.rawspec.0000.dat\n",
      "/datax/scratch/benjb/bl_nearby_stars/seticore_output/within_5.1_pc/blc61_guppi_60274_31855_HIP19849_0089.rawspec.0000.dat\n",
      "/datax/scratch/benjb/bl_nearby_stars/seticore_output/within_5.1_pc/blc62_guppi_60274_30523_HIP19849_0085.rawspec.0000.dat\n",
      "/datax/scratch/benjb/bl_nearby_stars/seticore_output/within_5.1_pc/blc62_guppi_60274_31193_HIP19849_0087.rawspec.0000.dat\n",
      "/datax/scratch/benjb/bl_nearby_stars/seticore_output/within_5.1_pc/blc62_guppi_60274_31855_HIP19849_0089.rawspec.0000.dat\n",
      "/datax/scratch/benjb/bl_nearby_stars/seticore_output/within_5.1_pc/blc63_guppi_60274_30523_HIP19849_0085.rawspec.0000.dat\n",
      "/datax/scratch/benjb/bl_nearby_stars/seticore_output/within_5.1_pc/blc63_guppi_60274_31193_HIP19849_0087.rawspec.0000.dat\n",
      "/datax/scratch/benjb/bl_nearby_stars/seticore_output/within_5.1_pc/blc63_guppi_60274_31855_HIP19849_0089.rawspec.0000.dat\n",
      "/datax/scratch/benjb/bl_nearby_stars/seticore_output/within_5.1_pc/blc64_guppi_60274_30523_HIP19849_0085.rawspec.0000.dat\n",
      "/datax/scratch/benjb/bl_nearby_stars/seticore_output/within_5.1_pc/blc64_guppi_60274_31193_HIP19849_0087.rawspec.0000.dat\n",
      "/datax/scratch/benjb/bl_nearby_stars/seticore_output/within_5.1_pc/blc64_guppi_60274_31855_HIP19849_0089.rawspec.0000.dat\n",
      "/datax/scratch/benjb/bl_nearby_stars/seticore_output/within_5.1_pc/blc65_guppi_60274_30523_HIP19849_0085.rawspec.0000.dat\n",
      "/datax/scratch/benjb/bl_nearby_stars/seticore_output/within_5.1_pc/blc65_guppi_60274_31193_HIP19849_0087.rawspec.0000.dat\n",
      "/datax/scratch/benjb/bl_nearby_stars/seticore_output/within_5.1_pc/blc65_guppi_60274_31855_HIP19849_0089.rawspec.0000.dat\n",
      "/datax/scratch/benjb/bl_nearby_stars/seticore_output/within_5.1_pc/blc66_guppi_60274_30523_HIP19849_0085.rawspec.0000.dat\n",
      "/datax/scratch/benjb/bl_nearby_stars/seticore_output/within_5.1_pc/blc66_guppi_60274_31193_HIP19849_0087.rawspec.0000.dat\n",
      "/datax/scratch/benjb/bl_nearby_stars/seticore_output/within_5.1_pc/blc66_guppi_60274_31855_HIP19849_0089.rawspec.0000.dat\n",
      "/datax/scratch/benjb/bl_nearby_stars/seticore_output/within_5.1_pc/blc67_guppi_60274_30523_HIP19849_0085.rawspec.0000.dat\n",
      "/datax/scratch/benjb/bl_nearby_stars/seticore_output/within_5.1_pc/blc67_guppi_60274_31193_HIP19849_0087.rawspec.0000.dat\n",
      "/datax/scratch/benjb/bl_nearby_stars/seticore_output/within_5.1_pc/blc67_guppi_60274_31855_HIP19849_0089.rawspec.0000.dat\n",
      "/datax/scratch/benjb/bl_nearby_stars/seticore_output/within_5.1_pc/blc70_guppi_60274_30523_HIP19849_0085.rawspec.0000.dat\n",
      "/datax/scratch/benjb/bl_nearby_stars/seticore_output/within_5.1_pc/blc70_guppi_60274_31193_HIP19849_0087.rawspec.0000.dat\n",
      "/datax/scratch/benjb/bl_nearby_stars/seticore_output/within_5.1_pc/blc70_guppi_60274_31855_HIP19849_0089.rawspec.0000.dat\n",
      "/datax/scratch/benjb/bl_nearby_stars/seticore_output/within_5.1_pc/blc71_guppi_60274_30523_HIP19849_0085.rawspec.0000.dat\n",
      "/datax/scratch/benjb/bl_nearby_stars/seticore_output/within_5.1_pc/blc71_guppi_60274_31193_HIP19849_0087.rawspec.0000.dat\n",
      "/datax/scratch/benjb/bl_nearby_stars/seticore_output/within_5.1_pc/blc71_guppi_60274_31855_HIP19849_0089.rawspec.0000.dat\n",
      "/datax/scratch/benjb/bl_nearby_stars/seticore_output/within_5.1_pc/blc72_guppi_60274_30523_HIP19849_0085.rawspec.0000.dat\n",
      "/datax/scratch/benjb/bl_nearby_stars/seticore_output/within_5.1_pc/blc72_guppi_60274_31193_HIP19849_0087.rawspec.0000.dat\n",
      "/datax/scratch/benjb/bl_nearby_stars/seticore_output/within_5.1_pc/blc72_guppi_60274_31855_HIP19849_0089.rawspec.0000.dat\n",
      "/datax/scratch/benjb/bl_nearby_stars/seticore_output/within_5.1_pc/blc73_guppi_60274_30523_HIP19849_0085.rawspec.0000.dat\n",
      "/datax/scratch/benjb/bl_nearby_stars/seticore_output/within_5.1_pc/blc73_guppi_60274_31193_HIP19849_0087.rawspec.0000.dat\n",
      "/datax/scratch/benjb/bl_nearby_stars/seticore_output/within_5.1_pc/blc73_guppi_60274_31855_HIP19849_0089.rawspec.0000.dat\n",
      "/datax/scratch/benjb/bl_nearby_stars/seticore_output/within_5.1_pc/blc74_guppi_60274_30523_HIP19849_0085.rawspec.0000.dat\n",
      "/datax/scratch/benjb/bl_nearby_stars/seticore_output/within_5.1_pc/blc74_guppi_60274_31193_HIP19849_0087.rawspec.0000.dat\n",
      "/datax/scratch/benjb/bl_nearby_stars/seticore_output/within_5.1_pc/blc74_guppi_60274_31855_HIP19849_0089.rawspec.0000.dat\n",
      "/datax/scratch/benjb/bl_nearby_stars/seticore_output/within_5.1_pc/blc75_guppi_60274_30523_HIP19849_0085.rawspec.0000.dat\n",
      "/datax/scratch/benjb/bl_nearby_stars/seticore_output/within_5.1_pc/blc75_guppi_60274_31193_HIP19849_0087.rawspec.0000.dat\n",
      "/datax/scratch/benjb/bl_nearby_stars/seticore_output/within_5.1_pc/blc75_guppi_60274_31855_HIP19849_0089.rawspec.0000.dat\n",
      "/datax/scratch/benjb/bl_nearby_stars/seticore_output/within_5.1_pc/blc00_guppi_60286_04218_HIP19849_0017.rawspec.0000.dat\n",
      "/datax/scratch/benjb/bl_nearby_stars/seticore_output/within_5.1_pc/blc00_guppi_60286_04860_HIP19849_0019.rawspec.0000.dat\n",
      "/datax/scratch/benjb/bl_nearby_stars/seticore_output/within_5.1_pc/blc00_guppi_60286_05493_HIP19849_0021.rawspec.0000.dat\n",
      "/datax/scratch/benjb/bl_nearby_stars/seticore_output/within_5.1_pc/blc01_guppi_60286_04218_HIP19849_0017.rawspec.0000.dat\n",
      "/datax/scratch/benjb/bl_nearby_stars/seticore_output/within_5.1_pc/blc01_guppi_60286_04860_HIP19849_0019.rawspec.0000.dat\n",
      "/datax/scratch/benjb/bl_nearby_stars/seticore_output/within_5.1_pc/blc01_guppi_60286_05493_HIP19849_0021.rawspec.0000.dat\n",
      "/datax/scratch/benjb/bl_nearby_stars/seticore_output/within_5.1_pc/blc02_guppi_60286_04218_HIP19849_0017.rawspec.0000.dat\n",
      "/datax/scratch/benjb/bl_nearby_stars/seticore_output/within_5.1_pc/blc02_guppi_60286_04860_HIP19849_0019.rawspec.0000.dat\n",
      "/datax/scratch/benjb/bl_nearby_stars/seticore_output/within_5.1_pc/blc02_guppi_60286_05493_HIP19849_0021.rawspec.0000.dat\n",
      "/datax/scratch/benjb/bl_nearby_stars/seticore_output/within_5.1_pc/blc03_guppi_60286_04218_HIP19849_0017.rawspec.0000.dat\n",
      "/datax/scratch/benjb/bl_nearby_stars/seticore_output/within_5.1_pc/blc03_guppi_60286_04860_HIP19849_0019.rawspec.0000.dat\n",
      "/datax/scratch/benjb/bl_nearby_stars/seticore_output/within_5.1_pc/blc03_guppi_60286_05493_HIP19849_0021.rawspec.0000.dat\n",
      "/datax/scratch/benjb/bl_nearby_stars/seticore_output/within_5.1_pc/blc04_guppi_60286_04218_HIP19849_0017.rawspec.0000.dat\n",
      "/datax/scratch/benjb/bl_nearby_stars/seticore_output/within_5.1_pc/blc04_guppi_60286_04860_HIP19849_0019.rawspec.0000.dat\n",
      "/datax/scratch/benjb/bl_nearby_stars/seticore_output/within_5.1_pc/blc04_guppi_60286_05493_HIP19849_0021.rawspec.0000.dat\n",
      "/datax/scratch/benjb/bl_nearby_stars/seticore_output/within_5.1_pc/blc05_guppi_60286_04218_HIP19849_0017.rawspec.0000.dat\n",
      "/datax/scratch/benjb/bl_nearby_stars/seticore_output/within_5.1_pc/blc05_guppi_60286_04860_HIP19849_0019.rawspec.0000.dat\n",
      "/datax/scratch/benjb/bl_nearby_stars/seticore_output/within_5.1_pc/blc05_guppi_60286_05493_HIP19849_0021.rawspec.0000.dat\n",
      "/datax/scratch/benjb/bl_nearby_stars/seticore_output/within_5.1_pc/blc06_guppi_60286_04218_HIP19849_0017.rawspec.0000.dat\n",
      "/datax/scratch/benjb/bl_nearby_stars/seticore_output/within_5.1_pc/blc06_guppi_60286_04860_HIP19849_0019.rawspec.0000.dat\n",
      "/datax/scratch/benjb/bl_nearby_stars/seticore_output/within_5.1_pc/blc06_guppi_60286_05493_HIP19849_0021.rawspec.0000.dat\n",
      "/datax/scratch/benjb/bl_nearby_stars/seticore_output/within_5.1_pc/blc07_guppi_60286_04218_HIP19849_0017.rawspec.0000.dat\n",
      "/datax/scratch/benjb/bl_nearby_stars/seticore_output/within_5.1_pc/blc07_guppi_60286_04860_HIP19849_0019.rawspec.0000.dat\n",
      "/datax/scratch/benjb/bl_nearby_stars/seticore_output/within_5.1_pc/blc07_guppi_60286_05493_HIP19849_0021.rawspec.0000.dat\n",
      "/datax/scratch/benjb/bl_nearby_stars/seticore_output/within_5.1_pc/blc10_guppi_60286_04218_HIP19849_0017.rawspec.0000.dat\n",
      "/datax/scratch/benjb/bl_nearby_stars/seticore_output/within_5.1_pc/blc10_guppi_60286_04860_HIP19849_0019.rawspec.0000.dat\n",
      "/datax/scratch/benjb/bl_nearby_stars/seticore_output/within_5.1_pc/blc10_guppi_60286_05493_HIP19849_0021.rawspec.0000.dat\n",
      "/datax/scratch/benjb/bl_nearby_stars/seticore_output/within_5.1_pc/blc11_guppi_60286_04218_HIP19849_0017.rawspec.0000.dat\n",
      "/datax/scratch/benjb/bl_nearby_stars/seticore_output/within_5.1_pc/blc11_guppi_60286_05493_HIP19849_0021.rawspec.0000.dat\n",
      "/datax/scratch/benjb/bl_nearby_stars/seticore_output/within_5.1_pc/blc12_guppi_60286_04218_HIP19849_0017.rawspec.0000.dat\n",
      "/datax/scratch/benjb/bl_nearby_stars/seticore_output/within_5.1_pc/blc12_guppi_60286_04860_HIP19849_0019.rawspec.0000.dat\n",
      "/datax/scratch/benjb/bl_nearby_stars/seticore_output/within_5.1_pc/blc12_guppi_60286_05493_HIP19849_0021.rawspec.0000.dat\n",
      "/datax/scratch/benjb/bl_nearby_stars/seticore_output/within_5.1_pc/blc13_guppi_60286_04218_HIP19849_0017.rawspec.0000.dat\n",
      "/datax/scratch/benjb/bl_nearby_stars/seticore_output/within_5.1_pc/blc13_guppi_60286_04860_HIP19849_0019.rawspec.0000.dat\n",
      "/datax/scratch/benjb/bl_nearby_stars/seticore_output/within_5.1_pc/blc13_guppi_60286_05493_HIP19849_0021.rawspec.0000.dat\n",
      "/datax/scratch/benjb/bl_nearby_stars/seticore_output/within_5.1_pc/blc14_guppi_60286_04218_HIP19849_0017.rawspec.0000.dat\n",
      "/datax/scratch/benjb/bl_nearby_stars/seticore_output/within_5.1_pc/blc14_guppi_60286_04860_HIP19849_0019.rawspec.0000.dat\n",
      "/datax/scratch/benjb/bl_nearby_stars/seticore_output/within_5.1_pc/blc14_guppi_60286_05493_HIP19849_0021.rawspec.0000.dat\n",
      "/datax/scratch/benjb/bl_nearby_stars/seticore_output/within_5.1_pc/blc15_guppi_60286_04218_HIP19849_0017.rawspec.0000.dat\n",
      "/datax/scratch/benjb/bl_nearby_stars/seticore_output/within_5.1_pc/blc15_guppi_60286_04860_HIP19849_0019.rawspec.0000.dat\n",
      "/datax/scratch/benjb/bl_nearby_stars/seticore_output/within_5.1_pc/blc15_guppi_60286_05493_HIP19849_0021.rawspec.0000.dat\n",
      "/datax/scratch/benjb/bl_nearby_stars/seticore_output/within_5.1_pc/blc16_guppi_60286_04218_HIP19849_0017.rawspec.0000.dat\n",
      "/datax/scratch/benjb/bl_nearby_stars/seticore_output/within_5.1_pc/blc16_guppi_60286_04860_HIP19849_0019.rawspec.0000.dat\n",
      "/datax/scratch/benjb/bl_nearby_stars/seticore_output/within_5.1_pc/blc16_guppi_60286_05493_HIP19849_0021.rawspec.0000.dat\n",
      "/datax/scratch/benjb/bl_nearby_stars/seticore_output/within_5.1_pc/blc17_guppi_60286_04218_HIP19849_0017.rawspec.0000.dat\n",
      "/datax/scratch/benjb/bl_nearby_stars/seticore_output/within_5.1_pc/blc17_guppi_60286_04860_HIP19849_0019.rawspec.0000.dat\n",
      "/datax/scratch/benjb/bl_nearby_stars/seticore_output/within_5.1_pc/blc17_guppi_60286_05493_HIP19849_0021.rawspec.0000.dat\n",
      "/datax/scratch/benjb/bl_nearby_stars/seticore_output/within_5.1_pc/blc20_guppi_60286_04218_HIP19849_0017.rawspec.0000.dat\n",
      "/datax/scratch/benjb/bl_nearby_stars/seticore_output/within_5.1_pc/blc20_guppi_60286_04860_HIP19849_0019.rawspec.0000.dat\n",
      "/datax/scratch/benjb/bl_nearby_stars/seticore_output/within_5.1_pc/blc20_guppi_60286_05493_HIP19849_0021.rawspec.0000.dat\n",
      "/datax/scratch/benjb/bl_nearby_stars/seticore_output/within_5.1_pc/blc21_guppi_60286_04218_HIP19849_0017.rawspec.0000.dat\n",
      "/datax/scratch/benjb/bl_nearby_stars/seticore_output/within_5.1_pc/blc21_guppi_60286_04860_HIP19849_0019.rawspec.0000.dat\n",
      "/datax/scratch/benjb/bl_nearby_stars/seticore_output/within_5.1_pc/blc21_guppi_60286_05493_HIP19849_0021.rawspec.0000.dat\n",
      "/datax/scratch/benjb/bl_nearby_stars/seticore_output/within_5.1_pc/blc22_guppi_60286_04218_HIP19849_0017.rawspec.0000.dat\n",
      "/datax/scratch/benjb/bl_nearby_stars/seticore_output/within_5.1_pc/blc22_guppi_60286_04860_HIP19849_0019.rawspec.0000.dat\n",
      "/datax/scratch/benjb/bl_nearby_stars/seticore_output/within_5.1_pc/blc22_guppi_60286_05493_HIP19849_0021.rawspec.0000.dat\n",
      "/datax/scratch/benjb/bl_nearby_stars/seticore_output/within_5.1_pc/blc23_guppi_60286_04218_HIP19849_0017.rawspec.0000.dat\n",
      "/datax/scratch/benjb/bl_nearby_stars/seticore_output/within_5.1_pc/blc23_guppi_60286_04860_HIP19849_0019.rawspec.0000.dat\n",
      "/datax/scratch/benjb/bl_nearby_stars/seticore_output/within_5.1_pc/blc23_guppi_60286_05493_HIP19849_0021.rawspec.0000.dat\n",
      "/datax/scratch/benjb/bl_nearby_stars/seticore_output/within_5.1_pc/blc24_guppi_60286_04218_HIP19849_0017.rawspec.0000.dat\n",
      "/datax/scratch/benjb/bl_nearby_stars/seticore_output/within_5.1_pc/blc24_guppi_60286_04860_HIP19849_0019.rawspec.0000.dat\n",
      "/datax/scratch/benjb/bl_nearby_stars/seticore_output/within_5.1_pc/blc24_guppi_60286_05493_HIP19849_0021.rawspec.0000.dat\n",
      "/datax/scratch/benjb/bl_nearby_stars/seticore_output/within_5.1_pc/blc25_guppi_60286_04218_HIP19849_0017.rawspec.0000.dat\n",
      "/datax/scratch/benjb/bl_nearby_stars/seticore_output/within_5.1_pc/blc25_guppi_60286_04860_HIP19849_0019.rawspec.0000.dat\n",
      "/datax/scratch/benjb/bl_nearby_stars/seticore_output/within_5.1_pc/blc25_guppi_60286_05493_HIP19849_0021.rawspec.0000.dat\n",
      "/datax/scratch/benjb/bl_nearby_stars/seticore_output/within_5.1_pc/blc26_guppi_60286_04218_HIP19849_0017.rawspec.0000.dat\n",
      "/datax/scratch/benjb/bl_nearby_stars/seticore_output/within_5.1_pc/blc26_guppi_60286_04860_HIP19849_0019.rawspec.0000.dat\n",
      "/datax/scratch/benjb/bl_nearby_stars/seticore_output/within_5.1_pc/blc26_guppi_60286_05493_HIP19849_0021.rawspec.0000.dat\n",
      "/datax/scratch/benjb/bl_nearby_stars/seticore_output/within_5.1_pc/blc27_guppi_60286_04218_HIP19849_0017.rawspec.0000.dat\n",
      "/datax/scratch/benjb/bl_nearby_stars/seticore_output/within_5.1_pc/blc27_guppi_60286_04860_HIP19849_0019.rawspec.0000.dat\n",
      "/datax/scratch/benjb/bl_nearby_stars/seticore_output/within_5.1_pc/blc27_guppi_60286_05493_HIP19849_0021.rawspec.0000.dat\n",
      "/datax/scratch/benjb/bl_nearby_stars/seticore_output/within_5.1_pc/blc30_guppi_60286_04218_HIP19849_0017.rawspec.0000.dat\n",
      "/datax/scratch/benjb/bl_nearby_stars/seticore_output/within_5.1_pc/blc30_guppi_60286_04860_HIP19849_0019.rawspec.0000.dat\n",
      "/datax/scratch/benjb/bl_nearby_stars/seticore_output/within_5.1_pc/blc30_guppi_60286_05493_HIP19849_0021.rawspec.0000.dat\n",
      "/datax/scratch/benjb/bl_nearby_stars/seticore_output/within_5.1_pc/blc31_guppi_60286_04218_HIP19849_0017.rawspec.0000.dat\n",
      "/datax/scratch/benjb/bl_nearby_stars/seticore_output/within_5.1_pc/blc31_guppi_60286_04860_HIP19849_0019.rawspec.0000.dat\n",
      "/datax/scratch/benjb/bl_nearby_stars/seticore_output/within_5.1_pc/blc31_guppi_60286_05493_HIP19849_0021.rawspec.0000.dat\n",
      "/datax/scratch/benjb/bl_nearby_stars/seticore_output/within_5.1_pc/blc32_guppi_60286_04218_HIP19849_0017.rawspec.0000.dat\n",
      "/datax/scratch/benjb/bl_nearby_stars/seticore_output/within_5.1_pc/blc32_guppi_60286_04860_HIP19849_0019.rawspec.0000.dat\n",
      "/datax/scratch/benjb/bl_nearby_stars/seticore_output/within_5.1_pc/blc32_guppi_60286_05493_HIP19849_0021.rawspec.0000.dat\n",
      "/datax/scratch/benjb/bl_nearby_stars/seticore_output/within_5.1_pc/blc33_guppi_60286_04218_HIP19849_0017.rawspec.0000.dat\n",
      "/datax/scratch/benjb/bl_nearby_stars/seticore_output/within_5.1_pc/blc33_guppi_60286_04860_HIP19849_0019.rawspec.0000.dat\n",
      "/datax/scratch/benjb/bl_nearby_stars/seticore_output/within_5.1_pc/blc33_guppi_60286_05493_HIP19849_0021.rawspec.0000.dat\n",
      "/datax/scratch/benjb/bl_nearby_stars/seticore_output/within_5.1_pc/blc34_guppi_60286_04218_HIP19849_0017.rawspec.0000.dat\n",
      "/datax/scratch/benjb/bl_nearby_stars/seticore_output/within_5.1_pc/blc34_guppi_60286_04860_HIP19849_0019.rawspec.0000.dat\n",
      "/datax/scratch/benjb/bl_nearby_stars/seticore_output/within_5.1_pc/blc34_guppi_60286_05493_HIP19849_0021.rawspec.0000.dat\n",
      "/datax/scratch/benjb/bl_nearby_stars/seticore_output/within_5.1_pc/blc35_guppi_60286_04218_HIP19849_0017.rawspec.0000.dat\n",
      "/datax/scratch/benjb/bl_nearby_stars/seticore_output/within_5.1_pc/blc35_guppi_60286_04860_HIP19849_0019.rawspec.0000.dat\n",
      "/datax/scratch/benjb/bl_nearby_stars/seticore_output/within_5.1_pc/blc35_guppi_60286_05493_HIP19849_0021.rawspec.0000.dat\n",
      "/datax/scratch/benjb/bl_nearby_stars/seticore_output/within_5.1_pc/blc36_guppi_60286_04218_HIP19849_0017.rawspec.0000.dat\n",
      "/datax/scratch/benjb/bl_nearby_stars/seticore_output/within_5.1_pc/blc36_guppi_60286_04860_HIP19849_0019.rawspec.0000.dat\n",
      "/datax/scratch/benjb/bl_nearby_stars/seticore_output/within_5.1_pc/blc36_guppi_60286_05493_HIP19849_0021.rawspec.0000.dat\n",
      "/datax/scratch/benjb/bl_nearby_stars/seticore_output/within_5.1_pc/blc11_guppi_60286_04860_HIP19849_0019.rawspec.0000.dat\n"
     ]
    }
   ],
   "source": [
    "test_csvs = glob.glob('/datax/scratch/benjb/bl_nearby_stars/seticore_output/within_5.1_pc/*HIP19849*.dat')\n",
    "for i in test_csvs:\n",
    "    print(i)"
   ]
  },
  {
   "cell_type": "code",
   "execution_count": 21,
   "metadata": {},
   "outputs": [
    {
     "data": {
      "text/plain": [
       "-2342.105263228165"
      ]
     },
     "execution_count": 21,
     "metadata": {},
     "output_type": "execute_result"
    }
   ],
   "source": [
    "(1599.451620-1599.4534)/0.00000076"
   ]
  },
  {
   "cell_type": "code",
   "execution_count": 32,
   "metadata": {},
   "outputs": [
    {
     "data": {
      "text/plain": [
       "1599.45162008"
      ]
     },
     "execution_count": 32,
     "metadata": {},
     "output_type": "execute_result"
    }
   ],
   "source": [
    "1599.4534 - 0.00000076*2342"
   ]
  },
  {
   "cell_type": "code",
   "execution_count": 22,
   "metadata": {},
   "outputs": [
    {
     "data": {
      "text/plain": [
       "1599.45162008"
      ]
     },
     "execution_count": 22,
     "metadata": {},
     "output_type": "execute_result"
    }
   ],
   "source": [
    "1599.4534-0.00000076*2342"
   ]
  },
  {
   "cell_type": "code",
   "execution_count": 40,
   "metadata": {},
   "outputs": [
    {
     "data": {
      "text/plain": [
       "2484.640522875817"
      ]
     },
     "execution_count": 40,
     "metadata": {},
     "output_type": "execute_result"
    }
   ],
   "source": [
    "0.007603/0.00000306"
   ]
  },
  {
   "cell_type": "code",
   "execution_count": 23,
   "metadata": {},
   "outputs": [
    {
     "data": {
      "text/plain": [
       "1599.45162"
      ]
     },
     "execution_count": 23,
     "metadata": {},
     "output_type": "execute_result"
    }
   ],
   "source": [
    "1599.4534-0.00178"
   ]
  },
  {
   "cell_type": "code",
   "execution_count": 17,
   "metadata": {},
   "outputs": [
    {
     "name": "stdout",
     "output_type": "stream",
     "text": [
      "[ 1.5994534e+03 -7.5671300e-01  2.1043835e+01]\n",
      "(675, 3)\n",
      "(37, 3)\n",
      "(1494, 3)\n",
      "(418, 3)\n"
     ]
    }
   ],
   "source": [
    "la = np.transpose([event_fvec_L, event_dvec_L, event_svec_L]).astype(float)\n",
    "sa = np.transpose([event_fvec_S, event_dvec_S, event_svec_S]).astype(float)\n",
    "ca = np.transpose([event_fvec_C, event_dvec_C, event_svec_C]).astype(float)\n",
    "xa = np.transpose([event_fvec_X, event_dvec_X, event_svec_X]).astype(float)\n",
    "print(la[0])\n",
    "lu = np.unique(la, axis=0)\n",
    "print(lu.shape)\n",
    "su = np.unique(sa, axis=0)\n",
    "print(su.shape)\n",
    "cu = np.unique(ca, axis=0)\n",
    "print(cu.shape)\n",
    "xu = np.unique(xa, axis=0)\n",
    "print(xu.shape)"
   ]
  },
  {
   "cell_type": "code",
   "execution_count": null,
   "metadata": {},
   "outputs": [],
   "source": [
    "print()"
   ]
  },
  {
   "cell_type": "code",
   "execution_count": null,
   "metadata": {},
   "outputs": [],
   "source": [
    "for i in range(len(png_list)):\n",
    "    png = png_list[i]\n",
    "    target = "
   ]
  },
  {
   "cell_type": "code",
   "execution_count": 258,
   "metadata": {},
   "outputs": [
    {
     "name": "stdout",
     "output_type": "stream",
     "text": [
      "10198\n",
      "10198\n",
      "1793058\n",
      "174903\n",
      "3787619\n",
      "1636599\n"
     ]
    }
   ],
   "source": [
    "dats = glob.glob('/datax/scratch/benjb/bl_nearby_stars/seticore_output/within_5.1_pc/*.dat')\n",
    "print(len(dats))\n",
    "udats = np.unique(dats)\n",
    "print(len(udats))\n",
    "lfvec = []\n",
    "ldvec = []\n",
    "lsvec = []\n",
    "sfvec = []\n",
    "sdvec = []\n",
    "ssvec = []\n",
    "cfvec = []\n",
    "cdvec = []\n",
    "csvec = []\n",
    "xfvec = []\n",
    "xdvec = []\n",
    "xsvec = []\n",
    "\n",
    "#semester_counts = []\n",
    "\n",
    "for dat in udats:\n",
    "    #print(dat)\n",
    "\n",
    "    argwhere = np.where(df0['.dat path'].values == dat)[0]\n",
    "    receiver = df0['Receiver'].values[argwhere][0]\n",
    "    h5_path = df0['.h5 path'].values[argwhere][0]\n",
    "    semester = h5_path.split('AGBT')[1][:3]\n",
    "    cadence = df0['Cadence ID'].values[argwhere][0]\n",
    "\n",
    "    if (cadence == 1549) | (cadence == 6762) | (cadence == 1281) | (cadence == 6363):\n",
    "        continue\n",
    "\n",
    "    df = pd.read_table(dat, sep='\\s+', names=['Top_Hit_#','Drift_Rate','SNR','Uncorrected_Frequency','Corrected_Frequency',\n",
    "                                                    'Index', 'freq_start', 'freq_end', 'SEFD', 'SEFD_freq', 'Coarse_Channel_Number', \n",
    "                                                    'Full_number_of_hits'], skiprows=9)\n",
    "    if receiver == 'Rcvr1_2':\n",
    "        tdf = df.iloc[\n",
    "            np.where((df['Uncorrected_Frequency'].values > 1100) & (df['Uncorrected_Frequency'].values < 1200) |\n",
    "                    (df['Uncorrected_Frequency'].values > 1340) & (df['Uncorrected_Frequency'].values < 1900))[0]\n",
    "            ]\n",
    "        f = tdf['freq_start'].values\n",
    "        d = tdf['Drift_Rate'].values\n",
    "        s = tdf['SNR'].values\n",
    "        lfvec.append(f)\n",
    "        ldvec.append(d)\n",
    "        lsvec.append(s)\n",
    "    elif receiver == 'Rcvr2_3':\n",
    "        tdf = df.iloc[\n",
    "            np.where((df['Uncorrected_Frequency'].values > 1800) & (df['Uncorrected_Frequency'].values < 2300) |\n",
    "                    (df['Uncorrected_Frequency'].values > 2360) & (df['Uncorrected_Frequency'].values < 2700))[0]\n",
    "            ]\n",
    "        f = tdf['freq_start'].values\n",
    "        d = tdf['Drift_Rate'].values\n",
    "        s = tdf['SNR'].values\n",
    "        sfvec.append(f)\n",
    "        sdvec.append(d)\n",
    "        ssvec.append(s)\n",
    "    elif receiver == 'Rcvr4_6':\n",
    "        tdf = df.iloc[\n",
    "            np.where((df['Uncorrected_Frequency'].values > 4000) & (df['Uncorrected_Frequency'].values < 7800))[0]\n",
    "            ]\n",
    "        f = tdf['freq_start'].values\n",
    "        d = tdf['Drift_Rate'].values\n",
    "        s = tdf['SNR'].values\n",
    "        cfvec.append(f)\n",
    "        cdvec.append(d)\n",
    "        csvec.append(s)\n",
    "    elif receiver == 'Rcvr8_10':\n",
    "        tdf = df.iloc[\n",
    "            np.where((df['Uncorrected_Frequency'].values > 7800) & (df['Uncorrected_Frequency'].values < 11200))[0]\n",
    "            ]\n",
    "        f = tdf['freq_start'].values\n",
    "        d = tdf['Drift_Rate'].values\n",
    "        s = tdf['SNR'].values\n",
    "        xfvec.append(f)\n",
    "        xdvec.append(d)\n",
    "        xsvec.append(s)\n",
    "    #fb = bl.Waterfall(h5_path, load_data=False)\n",
    "    #ghz = fb.header['nchans']*2.7939677238464355e-06/1e3\n",
    "    #semester_counts.append([semester, receiver, len(f), ghz])\n",
    "\n",
    "lfvec = np.concatenate(lfvec)\n",
    "ldvec = np.concatenate(ldvec)\n",
    "lsvec = np.concatenate(lsvec)\n",
    "sfvec = np.concatenate(sfvec)\n",
    "sdvec = np.concatenate(sdvec)\n",
    "ssvec = np.concatenate(ssvec)\n",
    "cfvec = np.concatenate(cfvec)\n",
    "cdvec = np.concatenate(cdvec)\n",
    "csvec = np.concatenate(csvec)\n",
    "xfvec = np.concatenate(xfvec)\n",
    "xdvec = np.concatenate(xdvec)\n",
    "xsvec = np.concatenate(xsvec)\n",
    "\n",
    "print(len(lfvec))\n",
    "print(len(sfvec))\n",
    "print(len(cfvec))\n",
    "print(len(xfvec))"
   ]
  },
  {
   "cell_type": "code",
   "execution_count": 259,
   "metadata": {},
   "outputs": [
    {
     "name": "stdout",
     "output_type": "stream",
     "text": [
      "7392179\n"
     ]
    }
   ],
   "source": [
    "print(1793058+174903+3787619+1636599)"
   ]
  },
  {
   "cell_type": "code",
   "execution_count": 222,
   "metadata": {},
   "outputs": [
    {
     "name": "stdout",
     "output_type": "stream",
     "text": [
      "['Rcvr4_6' 'Rcvr2_3' 'Rcvr8_10' 'Rcvr8_10' 'Rcvr4_6' 'Rcvr8_10' 'Rcvr8_10'\n",
      " 'Rcvr8_10' 'Rcvr8_10' 'Rcvr8_10' 'Rcvr1_2' 'Rcvr4_6' 'Rcvr8_10'\n",
      " 'Rcvr8_10' 'Rcvr4_6' 'Rcvr8_10' 'Rcvr8_10' 'Rcvr4_6' 'Rcvr8_10'\n",
      " 'Rcvr8_10' 'Rcvr4_6' 'Rcvr4_6' 'Rcvr4_6' 'Rcvr8_10' 'Rcvr2_3' 'Rcvr1_2'\n",
      " 'Rcvr4_6' 'Rcvr8_10' 'Rcvr1_2' 'Rcvr8_10' 'Rcvr8_10' 'Rcvr4_6' 'Rcvr8_10'\n",
      " 'Rcvr8_10' 'Rcvr8_10' 'Rcvr4_6' 'Rcvr8_10' 'Rcvr4_6' 'Rcvr4_6' 'Rcvr4_6'\n",
      " 'Rcvr8_10' 'Rcvr4_6' 'Rcvr8_10' 'Rcvr4_6' 'Rcvr8_10' 'Rcvr1_2' 'Rcvr8_10'\n",
      " 'Rcvr8_10' 'Rcvr8_10' 'Rcvr8_10' 'Rcvr8_10' 'Rcvr4_6' 'Rcvr4_6'\n",
      " 'Rcvr8_10' 'Rcvr2_3' 'Rcvr4_6' 'Rcvr4_6' 'Rcvr4_6' 'Rcvr8_10' 'Rcvr8_10'\n",
      " 'Rcvr4_6' 'Rcvr8_10' 'Rcvr8_10' 'Rcvr4_6' 'Rcvr1_2' 'Rcvr4_6' 'Rcvr8_10'\n",
      " 'Rcvr8_10' 'Rcvr4_6' 'Rcvr8_10' 'Rcvr4_6' 'Rcvr4_6' 'Rcvr4_6' 'Rcvr4_6'\n",
      " 'Rcvr4_6' 'Rcvr4_6' 'Rcvr4_6' 'Rcvr1_2' 'Rcvr4_6' 'Rcvr8_10' 'Rcvr4_6'\n",
      " 'Rcvr8_10' 'Rcvr1_2' 'Rcvr8_10' 'Rcvr8_10' 'Rcvr8_10' 'Rcvr8_10'\n",
      " 'Rcvr1_2' 'Rcvr4_6' 'Rcvr8_10' 'Rcvr8_10' 'Rcvr8_10' 'Rcvr4_6' 'Rcvr8_10'\n",
      " 'Rcvr8_10' 'Rcvr4_6' 'Rcvr8_10' 'Rcvr4_6' 'Rcvr8_10' 'Rcvr8_10']\n",
      "['16B' 'Rcvr4_6' '0' '0.1875']\n"
     ]
    }
   ],
   "source": [
    "semester_arr = np.array(semester_counts)\n",
    "print(np.random.choice(semester_arr[:,1], 100))\n",
    "print(semester_arr[1])"
   ]
  },
  {
   "cell_type": "code",
   "execution_count": 171,
   "metadata": {},
   "outputs": [
    {
     "name": "stdout",
     "output_type": "stream",
     "text": [
      "16A 252\n",
      "16B 496\n",
      "17A 30\n",
      "17B 102\n",
      "18A 264\n",
      "18B 2130\n",
      "19A 1944\n",
      "19B 882\n",
      "21A 138\n",
      "23A 912\n",
      "23B 2700\n",
      "24A 348\n"
     ]
    }
   ],
   "source": [
    "u, c = np.unique(semester_arr[:,0], return_counts=True)\n",
    "for i in range(len(u)):\n",
    "    print(u[i], c[i])"
   ]
  },
  {
   "cell_type": "code",
   "execution_count": null,
   "metadata": {},
   "outputs": [],
   "source": []
  },
  {
   "cell_type": "code",
   "execution_count": 173,
   "metadata": {},
   "outputs": [
    {
     "name": "stdout",
     "output_type": "stream",
     "text": [
      "[['16A' 'Rcvr1_2' '3048']\n",
      " ['16A' 'Rcvr1_2' '4637']\n",
      " ['16A' 'Rcvr1_2' '3829']\n",
      " ['16A' 'Rcvr1_2' '7308']\n",
      " ['16A' 'Rcvr1_2' '4232']\n",
      " ['16A' 'Rcvr1_2' '4101']\n",
      " ['16A' 'Rcvr1_2' '3945']\n",
      " ['16A' 'Rcvr1_2' '5185']\n",
      " ['16A' 'Rcvr1_2' '4233']\n",
      " ['16A' 'Rcvr1_2' '4227']\n",
      " ['16A' 'Rcvr1_2' '4043']\n",
      " ['16A' 'Rcvr1_2' '4142']\n",
      " ['16A' 'Rcvr1_2' '4866']\n",
      " ['16A' 'Rcvr1_2' '5951']\n",
      " ['16A' 'Rcvr1_2' '5335']\n",
      " ['16A' 'Rcvr1_2' '4617']\n",
      " ['16A' 'Rcvr1_2' '5038']\n",
      " ['16A' 'Rcvr1_2' '6290']\n",
      " ['16A' 'Rcvr1_2' '5192']\n",
      " ['16A' 'Rcvr1_2' '5695']\n",
      " ['16A' 'Rcvr1_2' '5444']\n",
      " ['16A' 'Rcvr1_2' '6089']\n",
      " ['16A' 'Rcvr1_2' '6106']\n",
      " ['16A' 'Rcvr1_2' '5392']\n",
      " ['16A' 'Rcvr1_2' '4867']\n",
      " ['16A' 'Rcvr1_2' '4159']\n",
      " ['16A' 'Rcvr1_2' '2625']\n",
      " ['16A' 'Rcvr1_2' '2519']\n",
      " ['16A' 'Rcvr1_2' '2851']\n",
      " ['16A' 'Rcvr1_2' '2528']\n",
      " ['16A' 'Rcvr1_2' '4214']\n",
      " ['16A' 'Rcvr1_2' '4173']\n",
      " ['16A' 'Rcvr1_2' '5097']\n",
      " ['16A' 'Rcvr1_2' '5326']\n",
      " ['16A' 'Rcvr1_2' '5587']\n",
      " ['16A' 'Rcvr1_2' '5064']\n",
      " ['16A' 'Rcvr1_2' '3212']\n",
      " ['16A' 'Rcvr1_2' '3612']\n",
      " ['16A' 'Rcvr1_2' '3963']\n",
      " ['16A' 'Rcvr1_2' '3730']\n",
      " ['16A' 'Rcvr1_2' '4332']\n",
      " ['16A' 'Rcvr1_2' '4368']\n",
      " ['16A' 'Rcvr1_2' '2918']\n",
      " ['16A' 'Rcvr1_2' '2442']\n",
      " ['16A' 'Rcvr1_2' '2297']\n",
      " ['16A' 'Rcvr1_2' '2821']\n",
      " ['16A' 'Rcvr1_2' '2237']\n",
      " ['16A' 'Rcvr1_2' '4176']\n",
      " ['16A' 'Rcvr1_2' '5437']\n",
      " ['16A' 'Rcvr1_2' '6741']\n",
      " ['16A' 'Rcvr1_2' '5450']\n",
      " ['16A' 'Rcvr1_2' '7257']\n",
      " ['16A' 'Rcvr1_2' '6081']\n",
      " ['16A' 'Rcvr1_2' '7227']\n",
      " ['16A' 'Rcvr1_2' '3448']\n",
      " ['16A' 'Rcvr1_2' '3160']\n",
      " ['16A' 'Rcvr1_2' '3792']\n",
      " ['16A' 'Rcvr1_2' '2690']\n",
      " ['16A' 'Rcvr1_2' '3249']\n",
      " ['16A' 'Rcvr1_2' '3183']\n",
      " ['16A' 'Rcvr1_2' '2877']\n",
      " ['16A' 'Rcvr1_2' '3451']\n",
      " ['16A' 'Rcvr1_2' '4006']\n",
      " ['16A' 'Rcvr1_2' '3322']\n",
      " ['16A' 'Rcvr1_2' '3078']\n",
      " ['16A' 'Rcvr1_2' '3309']\n",
      " ['16A' 'Rcvr1_2' '4205']\n",
      " ['16A' 'Rcvr1_2' '3620']\n",
      " ['16A' 'Rcvr1_2' '6307']\n",
      " ['16A' 'Rcvr1_2' '5617']\n",
      " ['16A' 'Rcvr1_2' '7138']\n",
      " ['16A' 'Rcvr1_2' '6212']\n",
      " ['16A' 'Rcvr1_2' '6328']\n",
      " ['16A' 'Rcvr1_2' '5203']\n",
      " ['16A' 'Rcvr1_2' '5380']\n",
      " ['16A' 'Rcvr1_2' '5315']\n",
      " ['16A' 'Rcvr1_2' '5053']\n",
      " ['16A' 'Rcvr1_2' '4401']\n",
      " ['16A' 'Rcvr1_2' '4195']\n",
      " ['16A' 'Rcvr1_2' '3831']\n",
      " ['16A' 'Rcvr1_2' '3265']\n",
      " ['16A' 'Rcvr1_2' '5357']\n",
      " ['16A' 'Rcvr1_2' '4996']\n",
      " ['16A' 'Rcvr1_2' '5948']\n",
      " ['16A' 'Rcvr1_2' '5676']\n",
      " ['16A' 'Rcvr1_2' '5524']\n",
      " ['16A' 'Rcvr1_2' '4301']\n",
      " ['16A' 'Rcvr1_2' '4926']\n",
      " ['16A' 'Rcvr1_2' '3898']\n",
      " ['16A' 'Rcvr1_2' '4149']\n",
      " ['16A' 'Rcvr1_2' '7038']\n",
      " ['16A' 'Rcvr1_2' '7207']\n",
      " ['16A' 'Rcvr1_2' '7593']\n",
      " ['16A' 'Rcvr1_2' '6320']\n",
      " ['16A' 'Rcvr1_2' '7005']\n",
      " ['16A' 'Rcvr1_2' '5229']\n",
      " ['16A' 'Rcvr1_2' '6461']\n",
      " ['16A' 'Rcvr1_2' '6262']\n",
      " ['16A' 'Rcvr1_2' '6537']\n",
      " ['16A' 'Rcvr1_2' '6235']\n",
      " ['16A' 'Rcvr1_2' '5962']\n",
      " ['16A' 'Rcvr1_2' '5391']\n",
      " ['16A' 'Rcvr1_2' '6913']\n",
      " ['16A' 'Rcvr1_2' '7154']\n",
      " ['16A' 'Rcvr1_2' '7084']\n",
      " ['16A' 'Rcvr1_2' '6993']\n",
      " ['16A' 'Rcvr1_2' '6923']\n",
      " ['16A' 'Rcvr1_2' '6141']\n",
      " ['16A' 'Rcvr1_2' '4227']\n",
      " ['16A' 'Rcvr1_2' '2379']\n",
      " ['16A' 'Rcvr1_2' '2565']\n",
      " ['16A' 'Rcvr1_2' '2432']\n",
      " ['16A' 'Rcvr1_2' '2504']\n",
      " ['16A' 'Rcvr1_2' '2293']\n",
      " ['16A' 'Rcvr1_2' '2647']\n",
      " ['16A' 'Rcvr1_2' '2688']\n",
      " ['16A' 'Rcvr1_2' '2741']\n",
      " ['16A' 'Rcvr1_2' '3467']\n",
      " ['16A' 'Rcvr1_2' '3381']\n",
      " ['16A' 'Rcvr1_2' '2755']\n",
      " ['16A' 'Rcvr1_2' '4904']\n",
      " ['16A' 'Rcvr1_2' '5017']\n",
      " ['16A' 'Rcvr1_2' '5199']\n",
      " ['16A' 'Rcvr1_2' '5906']\n",
      " ['16A' 'Rcvr1_2' '5157']\n",
      " ['16A' 'Rcvr1_2' '5915']\n",
      " ['16A' 'Rcvr1_2' '4583']\n",
      " ['16A' 'Rcvr1_2' '5230']\n",
      " ['16A' 'Rcvr1_2' '5308']\n",
      " ['16A' 'Rcvr1_2' '6095']\n",
      " ['16A' 'Rcvr1_2' '5728']\n",
      " ['16A' 'Rcvr1_2' '7496']\n",
      " ['16A' 'Rcvr1_2' '6213']\n",
      " ['16A' 'Rcvr1_2' '6018']\n",
      " ['16A' 'Rcvr1_2' '5906']\n",
      " ['16A' 'Rcvr1_2' '6402']\n",
      " ['16A' 'Rcvr1_2' '7548']\n",
      " ['16A' 'Rcvr1_2' '7207']\n",
      " ['16A' 'Rcvr1_2' '4031']\n",
      " ['16A' 'Rcvr1_2' '3848']\n",
      " ['16A' 'Rcvr1_2' '2780']\n",
      " ['16A' 'Rcvr1_2' '2731']\n",
      " ['16A' 'Rcvr1_2' '2965']\n",
      " ['16A' 'Rcvr1_2' '3075']\n",
      " ['16A' 'Rcvr1_2' '3636']\n",
      " ['16A' 'Rcvr1_2' '2720']\n",
      " ['16A' 'Rcvr1_2' '2320']\n",
      " ['16A' 'Rcvr1_2' '2767']\n",
      " ['16A' 'Rcvr1_2' '3310']\n",
      " ['16A' 'Rcvr1_2' '3867']\n",
      " ['16A' 'Rcvr1_2' '4252']\n",
      " ['16A' 'Rcvr1_2' '3049']\n",
      " ['16A' 'Rcvr1_2' '3311']\n",
      " ['16A' 'Rcvr1_2' '3510']\n",
      " ['16A' 'Rcvr1_2' '4187']\n",
      " ['16A' 'Rcvr1_2' '5434']\n",
      " ['16A' 'Rcvr1_2' '5510']\n",
      " ['16A' 'Rcvr1_2' '5747']\n",
      " ['16A' 'Rcvr1_2' '5795']\n",
      " ['16A' 'Rcvr1_2' '4726']\n",
      " ['16A' 'Rcvr1_2' '4169']\n",
      " ['16A' 'Rcvr1_2' '3440']\n",
      " ['16A' 'Rcvr1_2' '2625']\n",
      " ['16A' 'Rcvr1_2' '3255']\n",
      " ['16A' 'Rcvr1_2' '4438']\n",
      " ['16A' 'Rcvr1_2' '5722']\n",
      " ['16A' 'Rcvr1_2' '6401']\n",
      " ['16A' 'Rcvr1_2' '6917']\n",
      " ['16A' 'Rcvr1_2' '2604']\n",
      " ['16A' 'Rcvr1_2' '2438']\n",
      " ['16A' 'Rcvr1_2' '2354']\n",
      " ['16A' 'Rcvr1_2' '2122']\n",
      " ['16A' 'Rcvr1_2' '2271']\n",
      " ['16A' 'Rcvr1_2' '2406']\n",
      " ['16A' 'Rcvr1_2' '1913']\n",
      " ['16A' 'Rcvr1_2' '2197']\n",
      " ['16A' 'Rcvr1_2' '2132']\n",
      " ['16A' 'Rcvr1_2' '2012']\n",
      " ['16A' 'Rcvr1_2' '2237']\n",
      " ['16A' 'Rcvr1_2' '1812']\n",
      " ['16A' 'Rcvr1_2' '1954']\n",
      " ['16A' 'Rcvr1_2' '4012']\n",
      " ['16A' 'Rcvr1_2' '3495']\n",
      " ['16A' 'Rcvr1_2' '3695']\n",
      " ['16A' 'Rcvr1_2' '4451']\n",
      " ['16A' 'Rcvr1_2' '4981']\n",
      " ['16A' 'Rcvr1_2' '5502']\n",
      " ['16A' 'Rcvr1_2' '5224']\n",
      " ['16A' 'Rcvr1_2' '4147']\n",
      " ['16A' 'Rcvr1_2' '4638']\n",
      " ['16A' 'Rcvr1_2' '4739']\n",
      " ['16A' 'Rcvr1_2' '5335']\n",
      " ['16A' 'Rcvr1_2' '5770']\n",
      " ['16A' 'Rcvr1_2' '5975']\n",
      " ['16A' 'Rcvr1_2' '5416']\n",
      " ['16A' 'Rcvr1_2' '5104']\n",
      " ['16A' 'Rcvr1_2' '5246']\n",
      " ['16A' 'Rcvr1_2' '5448']\n",
      " ['16A' 'Rcvr1_2' '5602']\n",
      " ['16A' 'Rcvr1_2' '4825']\n",
      " ['16A' 'Rcvr1_2' '5454']\n",
      " ['16A' 'Rcvr1_2' '4495']\n",
      " ['16A' 'Rcvr1_2' '4581']\n",
      " ['16A' 'Rcvr1_2' '4458']\n",
      " ['16A' 'Rcvr1_2' '4442']\n",
      " ['16A' 'Rcvr1_2' '6723']\n",
      " ['16A' 'Rcvr1_2' '5783']\n",
      " ['16A' 'Rcvr1_2' '5306']\n",
      " ['16A' 'Rcvr1_2' '4333']\n",
      " ['16A' 'Rcvr1_2' '4980']\n",
      " ['16A' 'Rcvr1_2' '4859']\n",
      " ['16A' 'Rcvr1_2' '5303']\n",
      " ['16A' 'Rcvr1_2' '3835']\n",
      " ['16A' 'Rcvr1_2' '3687']\n",
      " ['16A' 'Rcvr1_2' '3641']\n",
      " ['16A' 'Rcvr1_2' '3461']\n",
      " ['16A' 'Rcvr1_2' '3391']\n",
      " ['16A' 'Rcvr1_2' '3480']\n",
      " ['16A' 'Rcvr1_2' '2592']\n",
      " ['16A' 'Rcvr1_2' '2770']\n",
      " ['16A' 'Rcvr1_2' '2467']\n",
      " ['16A' 'Rcvr1_2' '2727']\n",
      " ['16A' 'Rcvr1_2' '2733']\n",
      " ['16A' 'Rcvr1_2' '2575']\n",
      " ['16A' 'Rcvr1_2' '2825']\n",
      " ['16A' 'Rcvr1_2' '2299']\n",
      " ['16A' 'Rcvr1_2' '3099']\n",
      " ['16A' 'Rcvr1_2' '3554']\n",
      " ['16A' 'Rcvr1_2' '4429']\n",
      " ['16A' 'Rcvr1_2' '5161']\n",
      " ['16A' 'Rcvr1_2' '3867']\n",
      " ['16A' 'Rcvr1_2' '9167']\n",
      " ['16A' 'Rcvr1_2' '3021']\n",
      " ['16A' 'Rcvr1_2' '2548']\n",
      " ['16A' 'Rcvr1_2' '2347']\n",
      " ['16A' 'Rcvr1_2' '2575']\n",
      " ['16A' 'Rcvr1_2' '2711']\n",
      " ['16A' 'Rcvr1_2' '2831']\n",
      " ['16A' 'Rcvr1_2' '3079']\n",
      " ['16A' 'Rcvr1_2' '4742']\n",
      " ['16A' 'Rcvr1_2' '869']\n",
      " ['16A' 'Rcvr1_2' '29']\n",
      " ['16A' 'Rcvr1_2' '652']\n",
      " ['16A' 'Rcvr1_2' '395']\n",
      " ['16A' 'Rcvr1_2' '32']\n",
      " ['16A' 'Rcvr1_2' '26']\n",
      " ['16A' 'Rcvr1_2' '33']\n",
      " ['16A' 'Rcvr1_2' '24']\n",
      " ['16A' 'Rcvr1_2' '29']\n",
      " ['16A' 'Rcvr1_2' '25']\n",
      " ['16A' 'Rcvr1_2' '1179']\n",
      " ['16A' 'Rcvr1_2' '767']]\n"
     ]
    }
   ],
   "source": [
    "print(semester_arr[np.where(semester_arr[:,0]=='16A')[0]])"
   ]
  },
  {
   "cell_type": "code",
   "execution_count": 236,
   "metadata": {},
   "outputs": [
    {
     "name": "stdout",
     "output_type": "stream",
     "text": [
      "696\n",
      "346\n",
      "4296\n",
      "4860\n"
     ]
    }
   ],
   "source": [
    "print(len(np.where(semester_arr[:,1] == 'Rcvr1_2')[0]))\n",
    "print(len(np.where(semester_arr[:,1] == 'Rcvr2_3')[0]))\n",
    "print(len(np.where(semester_arr[:,1] == 'Rcvr4_6')[0]))\n",
    "print(len(np.where(semester_arr[:,1] == 'Rcvr8_10')[0]))"
   ]
  },
  {
   "cell_type": "code",
   "execution_count": 231,
   "metadata": {},
   "outputs": [
    {
     "name": "stdout",
     "output_type": "stream",
     "text": [
      "16A\n",
      "16B\n",
      "17A\n",
      "17B\n",
      "18A\n",
      "18B\n",
      "19A\n",
      "19B\n",
      "21A\n",
      "23A\n",
      "23B\n",
      "24A\n"
     ]
    },
    {
     "name": "stderr",
     "output_type": "stream",
     "text": [
      "/opt/conda/lib/python3.7/site-packages/ipykernel_launcher.py:18: RuntimeWarning: invalid value encountered in double_scalars\n",
      "/opt/conda/lib/python3.7/site-packages/ipykernel_launcher.py:19: RuntimeWarning: invalid value encountered in double_scalars\n",
      "/opt/conda/lib/python3.7/site-packages/ipykernel_launcher.py:20: RuntimeWarning: invalid value encountered in double_scalars\n",
      "/opt/conda/lib/python3.7/site-packages/ipykernel_launcher.py:17: RuntimeWarning: invalid value encountered in double_scalars\n"
     ]
    }
   ],
   "source": [
    "ltvec = []\n",
    "stvec = []\n",
    "ctvec = []\n",
    "xtvec = []\n",
    "atvec = []\n",
    "\n",
    "for s in np.unique(semester_arr[:,0]):\n",
    "    print(s)\n",
    "    li = np.where((semester_arr[:,1] == 'Rcvr1_2') & (semester_arr[:,0] == s))[0]\n",
    "    si = np.where((semester_arr[:,1] == 'Rcvr2_3') & (semester_arr[:,0] == s))[0]\n",
    "    ci = np.where((semester_arr[:,1] == 'Rcvr4_6') & (semester_arr[:,0] == s))[0]\n",
    "    xi = np.where((semester_arr[:,1] == 'Rcvr8_10') & (semester_arr[:,0] == s))[0]\n",
    "    semester_cut_L = semester_arr[li]\n",
    "    semester_cut_S = semester_arr[si]\n",
    "    semester_cut_C = semester_arr[ci]\n",
    "    semester_cut_X = semester_arr[xi]\n",
    "    lrfi = np.sum(semester_cut_L[:,2].astype('float')/semester_cut_L[:,3].astype('float'))/(len(li)/12)\n",
    "    srfi = np.sum(semester_cut_S[:,2].astype('float')/semester_cut_S[:,3].astype('float'))/(len(si)/12)\n",
    "    crfi = np.sum(semester_cut_C[:,2].astype('float')/semester_cut_C[:,3].astype('float'))/(len(ci)/12)\n",
    "    xrfi = np.sum(semester_cut_X[:,2].astype('float')/semester_cut_X[:,3].astype('float'))/(len(xi)/12)\n",
    "    arfi = (np.sum(semester_cut_L[:,2].astype('float'))/0.66+np.sum(semester_cut_S[:,2].astype('float'))/0.84+np.sum(semester_cut_C[:,2].astype('float'))/3.8+np.sum(semester_cut_X[:,2].astype('float'))/3.4)/5/(len(li)+len(si)+len(ci)+len(xi))\n",
    "    ltvec.append(lrfi)\n",
    "    stvec.append(srfi)\n",
    "    ctvec.append(crfi)\n",
    "    xtvec.append(xrfi)\n",
    "    atvec.append(arfi)"
   ]
  },
  {
   "cell_type": "code",
   "execution_count": 224,
   "metadata": {},
   "outputs": [
    {
     "name": "stdout",
     "output_type": "stream",
     "text": [
      "[959.0444229652499, 655.6509984639016, 1128.6718614718616, nan, nan, nan, nan, nan, nan, 1510.7637606837604, nan, nan]\n"
     ]
    }
   ],
   "source": [
    "print(ltvec)\n",
    "semester_vec = np.array(['16A',\n",
    "'16B',\n",
    "'17A',\n",
    "'17B',\n",
    "'18A',\n",
    "'18B',\n",
    "'19A',\n",
    "'19B',\n",
    "'21A',\n",
    "'23A',\n",
    "'23B',\n",
    "'24A'])\n",
    "snumvec = np.array([16, 16.5, 17, 17.5, 18, 18.5, 19, 19.5, 21, 23, 23.5, 24])"
   ]
  },
  {
   "cell_type": "code",
   "execution_count": 178,
   "metadata": {},
   "outputs": [
    {
     "name": "stdout",
     "output_type": "stream",
     "text": [
      "[False False False  True  True  True  True  True  True False  True  True]\n"
     ]
    }
   ],
   "source": [
    "print(np.isnan(ltvec))"
   ]
  },
  {
   "cell_type": "code",
   "execution_count": 179,
   "metadata": {},
   "outputs": [
    {
     "name": "stdout",
     "output_type": "stream",
     "text": [
      "[4238.13888889 2957.64285714 5092.25       1416.34102564]\n"
     ]
    }
   ],
   "source": [
    "ll = np.array(ltvec)[~np.isnan(ltvec)]\n",
    "print(ll)"
   ]
  },
  {
   "cell_type": "code",
   "execution_count": null,
   "metadata": {},
   "outputs": [
    {
     "name": "stdout",
     "output_type": "stream",
     "text": [
      "['18A' '18B' '19A' '19B' '20A' '20B' '21A' '21B' '22B']\n"
     ]
    }
   ],
   "source": [
    "dfc = pd.read_csv('/home/cgchoza/galaxies/complete_cadences_catalog.csv')\n",
    "sessions = dfc['Session'].values\n",
    "semesters = np.array([i[4:7] for i in sessions])\n",
    "bands = dfc['Band'].values\n",
    "ch5s = dfc['.h5 path'].values\n",
    "cdats = dfc['.dat path'].values\n",
    "\n",
    "print(np.unique(semesters))"
   ]
  },
  {
   "cell_type": "code",
   "execution_count": 210,
   "metadata": {},
   "outputs": [
    {
     "name": "stdout",
     "output_type": "stream",
     "text": [
      "16A\n",
      "16B\n",
      "17A\n",
      "17B\n",
      "18A\n"
     ]
    },
    {
     "name": "stderr",
     "output_type": "stream",
     "text": [
      "/opt/conda/lib/python3.7/site-packages/ipykernel_launcher.py:66: RuntimeWarning: invalid value encountered in double_scalars\n",
      "/opt/conda/lib/python3.7/site-packages/ipykernel_launcher.py:67: RuntimeWarning: invalid value encountered in double_scalars\n",
      "/opt/conda/lib/python3.7/site-packages/ipykernel_launcher.py:68: RuntimeWarning: invalid value encountered in double_scalars\n",
      "/opt/conda/lib/python3.7/site-packages/ipykernel_launcher.py:65: RuntimeWarning: invalid value encountered in double_scalars\n"
     ]
    },
    {
     "name": "stdout",
     "output_type": "stream",
     "text": [
      "18B\n",
      "19A\n",
      "19B\n",
      "20A\n"
     ]
    },
    {
     "name": "stderr",
     "output_type": "stream",
     "text": [
      "/opt/conda/lib/python3.7/site-packages/ipykernel_launcher.py:69: RuntimeWarning: invalid value encountered in double_scalars\n"
     ]
    },
    {
     "name": "stdout",
     "output_type": "stream",
     "text": [
      "20B\n",
      "21A\n",
      "21B\n",
      "22A\n",
      "22B\n",
      "23A\n",
      "23B\n",
      "24A\n"
     ]
    }
   ],
   "source": [
    "ltvec = []\n",
    "stvec = []\n",
    "ctvec = []\n",
    "xtvec = []\n",
    "atvec = []\n",
    "\n",
    "all_semesters = ['16A', '16B', '17A', '17B', '18A', '18B', '19A', '19B', '20A', '20B', '21A', '21B', '22A', '22B', '23A', '23B', '24A']\n",
    "\n",
    "for s in all_semesters:\n",
    "    print(s)\n",
    "    li = np.where((semester_arr[:,1] == 'Rcvr1_2') & (semester_arr[:,0] == s))[0]\n",
    "    si = np.where((semester_arr[:,1] == 'Rcvr2_3') & (semester_arr[:,0] == s))[0]\n",
    "    ci = np.where((semester_arr[:,1] == 'Rcvr4_6') & (semester_arr[:,0] == s))[0]\n",
    "    xi = np.where((semester_arr[:,1] == 'Rcvr8_10') & (semester_arr[:,0] == s))[0]\n",
    "    cli = np.where((bands == 'L') & (semesters == s))[0]\n",
    "    csi = np.where((bands == 'S') & (semesters == s))[0]\n",
    "    cci = np.where((bands == 'C') & (semesters == s))[0]\n",
    "    cxi = np.where((bands == 'X') & (semesters == s))[0]\n",
    "    semester_cut_L = semester_arr[li]\n",
    "    semester_cut_S = semester_arr[si]\n",
    "    semester_cut_C = semester_arr[ci]\n",
    "    semester_cut_X = semester_arr[xi]\n",
    "    clrfi = 0\n",
    "    clghz = 0\n",
    "    csrfi = 0\n",
    "    csghz = 0\n",
    "    ccrfi = 0\n",
    "    ccghz = 0\n",
    "    cxrfi = 0\n",
    "    cxghz = 0\n",
    "    for i, dat in enumerate(cdats[cli]):\n",
    "        df = pd.read_table(dat, sep='\\s+', names=['Top_Hit_#','Drift_Rate','SNR','Uncorrected_Frequency','Corrected_Frequency',\n",
    "                                                        'Index', 'freq_start', 'freq_end', 'SEFD', 'SEFD_freq', 'Coarse_Channel_Number', \n",
    "                                                        'Full_number_of_hits'], skiprows=9)\n",
    "        tdf = df.iloc[\n",
    "                np.where((df['Uncorrected_Frequency'].values > 1100) & (df['Uncorrected_Frequency'].values < 1200) |\n",
    "                        (df['Uncorrected_Frequency'].values > 1340) & (df['Uncorrected_Frequency'].values < 1900))[0]\n",
    "                ]\n",
    "        f = tdf['freq_start'].values\n",
    "        clrfi += len(f)\n",
    "        h5 = ch5s[cli][i]\n",
    "        fb = bl.Waterfall(h5, load_data=False)\n",
    "        ghz = fb.header['nchans']*2.7939677238464355e-06/1e3\n",
    "        clghz += ghz\n",
    "    for dat in cdats[csi]:\n",
    "        df = pd.read_table(dat, sep='\\s+', names=['Top_Hit_#','Drift_Rate','SNR','Uncorrected_Frequency','Corrected_Frequency',\n",
    "                                                        'Index', 'freq_start', 'freq_end', 'SEFD', 'SEFD_freq', 'Coarse_Channel_Number', \n",
    "                                                        'Full_number_of_hits'], skiprows=9)\n",
    "        tdf = df.iloc[\n",
    "            np.where((df['Uncorrected_Frequency'].values > 1800) & (df['Uncorrected_Frequency'].values < 2300) |\n",
    "                    (df['Uncorrected_Frequency'].values > 2360) & (df['Uncorrected_Frequency'].values < 2700))[0]\n",
    "            ]\n",
    "        f = tdf['freq_start'].values\n",
    "        csrfi += len(f)\n",
    "    for dat in cdats[cci]:\n",
    "        df = pd.read_table(dat, sep='\\s+', names=['Top_Hit_#','Drift_Rate','SNR','Uncorrected_Frequency','Corrected_Frequency',\n",
    "                                                        'Index', 'freq_start', 'freq_end', 'SEFD', 'SEFD_freq', 'Coarse_Channel_Number', \n",
    "                                                        'Full_number_of_hits'], skiprows=9)\n",
    "        tdf = df.iloc[\n",
    "            np.where((df['Uncorrected_Frequency'].values > 4000) & (df['Uncorrected_Frequency'].values < 7800))[0]\n",
    "            ]\n",
    "        f = tdf['freq_start'].values\n",
    "        ccrfi += len(f)\n",
    "    for dat in cdats[cxi]:\n",
    "        df = pd.read_table(dat, sep='\\s+', names=['Top_Hit_#','Drift_Rate','SNR','Uncorrected_Frequency','Corrected_Frequency',\n",
    "                                                        'Index', 'freq_start', 'freq_end', 'SEFD', 'SEFD_freq', 'Coarse_Channel_Number', \n",
    "                                                        'Full_number_of_hits'], skiprows=9)\n",
    "        tdf = df.iloc[\n",
    "            np.where((df['Uncorrected_Frequency'].values > 7800) & (df['Uncorrected_Frequency'].values < 11200))[0]\n",
    "            ]\n",
    "        f = tdf['freq_start'].values\n",
    "        cxrfi += len(f)\n",
    "    lrfi = (np.sum(semester_cut_L[:,2].astype('float'))+clrfi)/(len(li)*5+len(cli)*5)/0.66 #GHz\n",
    "    srfi = (np.sum(semester_cut_S[:,2].astype('float'))+csrfi)/(len(si)*5+len(csi)*5)/0.84\n",
    "    crfi = (np.sum(semester_cut_C[:,2].astype('float'))+ccrfi)/(len(ci)*5+len(cci)*5)/3.8\n",
    "    xrfi = (np.sum(semester_cut_X[:,2].astype('float'))+cxrfi)/(len(xi)*5+len(cxi)*5)/3.4\n",
    "    arfi = (np.sum(semester_cut_L[:,2].astype('float'))/0.66+np.sum(semester_cut_S[:,2].astype('float'))/0.84+np.sum(semester_cut_C[:,2].astype('float'))/3.8+np.sum(semester_cut_X[:,2].astype('float'))/3.4)/5/(len(li)+len(si)+len(ci)+len(xi))\n",
    "    ltvec.append(lrfi)\n",
    "    stvec.append(srfi)\n",
    "    ctvec.append(crfi)\n",
    "    xtvec.append(xrfi)\n",
    "    atvec.append(arfi)"
   ]
  },
  {
   "cell_type": "code",
   "execution_count": 226,
   "metadata": {},
   "outputs": [],
   "source": [
    "np.save('/datax/scratch/benjb/bl_nearby_stars/seticore_output/semesterly_rfi_arr.npy', semester_arr)"
   ]
  },
  {
   "cell_type": "code",
   "execution_count": 234,
   "metadata": {},
   "outputs": [
    {
     "data": {
      "image/png": "[encoded data removed]",
      "text/plain": [
       "<Figure size 720x432 with 1 Axes>"
      ]
     },
     "metadata": {
      "needs_background": "light"
     },
     "output_type": "display_data"
    }
   ],
   "source": [
    "# takes splicing into account incorrectly\n",
    "\n",
    "#snumvec = np.arange(16, 24.5, 0.5)\n",
    "#print(snumvec)\n",
    "\n",
    "fig, ax = plt.subplots(1, 1, figsize=(10,6))\n",
    "plt.plot(snumvec[~np.isnan(ltvec)], np.array(ltvec)[~np.isnan(ltvec)], marker='v', label='L')\n",
    "plt.plot(snumvec[~np.isnan(stvec)], np.array(stvec)[~np.isnan(stvec)], marker='^', label='S')\n",
    "plt.plot(snumvec[~np.isnan(ctvec)], np.array(ctvec)[~np.isnan(ctvec)], marker='s', label='C')\n",
    "plt.plot(snumvec[~np.isnan(xtvec)], np.array(xtvec)[~np.isnan(xtvec)], marker='D', label='X')\n",
    "#plt.plot(snumvec, np.array(atvec), c='k', lw=3, marker='o', ms=10, label='all')\n",
    "plt.yscale('log')\n",
    "plt.legend()\n",
    "plt.xticks(ticks=snumvec, labels=semester_vec)\n",
    "plt.xlabel('GBT observing semester')\n",
    "plt.ylabel(r'hits  [GHz$^{-1}$ hr$^{-1}$]')\n",
    "plt.savefig('/datax/scratch/benjb/bl_nearby_stars/seticore_output/plots/RFI_by_semester_5.1_pc_sample.pdf', bbox_inches='tight')\n",
    "#plt.grid()\n",
    "plt.show()"
   ]
  },
  {
   "cell_type": "code",
   "execution_count": 235,
   "metadata": {},
   "outputs": [
    {
     "ename": "NameError",
     "evalue": "name 'dvec' is not defined",
     "output_type": "error",
     "traceback": [
      "\u001b[0;31m---------------------------------------------------------------------------\u001b[0m",
      "\u001b[0;31mNameError\u001b[0m                                 Traceback (most recent call last)",
      "\u001b[0;32m<ipython-input-235-48ed0d56450f>\u001b[0m in \u001b[0;36m<module>\u001b[0;34m\u001b[0m\n\u001b[0;32m----> 1\u001b[0;31m \u001b[0mprint\u001b[0m\u001b[0;34m(\u001b[0m\u001b[0mnp\u001b[0m\u001b[0;34m.\u001b[0m\u001b[0mmax\u001b[0m\u001b[0;34m(\u001b[0m\u001b[0mnp\u001b[0m\u001b[0;34m.\u001b[0m\u001b[0mabs\u001b[0m\u001b[0;34m(\u001b[0m\u001b[0mdvec\u001b[0m\u001b[0;34m)\u001b[0m\u001b[0;34m)\u001b[0m\u001b[0;34m)\u001b[0m\u001b[0;34m\u001b[0m\u001b[0;34m\u001b[0m\u001b[0m\n\u001b[0m",
      "\u001b[0;31mNameError\u001b[0m: name 'dvec' is not defined"
     ]
    }
   ],
   "source": [
    "print(np.max(np.abs(dvec)))"
   ]
  },
  {
   "cell_type": "code",
   "execution_count": 29,
   "metadata": {},
   "outputs": [
    {
     "data": {
      "image/png": "[encoded data removed]",
      "text/plain": [
       "<Figure size 432x288 with 1 Axes>"
      ]
     },
     "metadata": {
      "needs_background": "light"
     },
     "output_type": "display_data"
    }
   ],
   "source": [
    "plt.hist(ldvec/(lfvec/1000), bins=200)\n",
    "plt.yscale('log')\n",
    "plt.xlabel('L-band normalized drift rate [nHz]')\n",
    "plt.show()"
   ]
  },
  {
   "cell_type": "code",
   "execution_count": 139,
   "metadata": {},
   "outputs": [
    {
     "data": {
      "image/png": "[encoded data removed]",
      "text/plain": [
       "<Figure size 720x432 with 1 Axes>"
      ]
     },
     "metadata": {
      "needs_background": "light"
     },
     "output_type": "display_data"
    }
   ],
   "source": [
    "fvec = np.concatenate((lfvec, sfvec, cfvec, xfvec))\n",
    "event_fvec = np.concatenate((event_fvec_L, event_fvec_S, event_fvec_C, event_fvec_X))\n",
    "\n",
    "fig = plt.subplots(1, 1, figsize=(10,6))\n",
    "\n",
    "plt.axvspan(1.1, 1.9, color='red', alpha=0.25, lw=0, label='L-band')\n",
    "plt.axvspan(1.8, 2.7, color='green', alpha=0.25, lw=0, label='S-band')\n",
    "plt.axvspan(4.0, 7.8, color='blue', alpha=0.25, lw=0, label='C-band')\n",
    "plt.axvspan(7.8, 11.2, color='yellow', alpha=0.25, lw=0, label='X-band')\n",
    "plt.axvspan(1.2, 1.34, color='white', lw=0, alpha=1)\n",
    "plt.axvspan(2.3, 2.36, color='white', lw=0, alpha=1)\n",
    "\n",
    "plt.hist(fvec/1000, bins=500, range=(1.1, 11.2), color='gray', label='hits')\n",
    "plt.hist(event_fvec/1000, bins=500, range=(1.1, 11.2), color='black', label='events')\n",
    "\n",
    "plt.xlabel('frequency [GHz]')\n",
    "plt.ylabel('N')\n",
    "plt.yscale('log')\n",
    "plt.legend()\n",
    "plt.savefig('/datax/scratch/benjb/bl_nearby_stars/seticore_output/plots/hit_event_frequency_histogram.pdf', bbox_inches='tight')\n",
    "\n",
    "plt.show()"
   ]
  },
  {
   "cell_type": "code",
   "execution_count": 141,
   "metadata": {},
   "outputs": [
    {
     "data": {
      "image/png": "[encoded data removed]",
      "text/plain": [
       "<Figure size 864x1152 with 8 Axes>"
      ]
     },
     "metadata": {
      "needs_background": "light"
     },
     "output_type": "display_data"
    }
   ],
   "source": [
    "fig, ax = plt.subplots(4, 2, figsize=(12,16))\n",
    "hit_color = 'dodgerblue'\n",
    "event_color = 'brown'\n",
    "nbins = 300\n",
    "\n",
    "ax[0,0].hist(ldvec/(lfvec/1000), color=hit_color, bins=nbins, label='L-band hits')\n",
    "ax[1,0].hist(sdvec/(sfvec/1000), color=hit_color, bins=nbins, label='S-band hits')\n",
    "ax[2,0].hist(cdvec/(cfvec/1000), color=hit_color, bins=nbins, label='C-band hits')\n",
    "ax[3,0].hist(xdvec/(xfvec/1000), color=hit_color, bins=nbins, label='X-band hits')\n",
    "ax[0,0].hist(event_dvec_L/(event_fvec_L/1000), color=event_color, bins=nbins, range=(np.min(ldvec/(lfvec/1000)), np.max(ldvec/(lfvec/1000))),\n",
    "             label='L-band events')\n",
    "ax[1,0].hist(event_dvec_S/(event_fvec_S/1000), color=event_color, bins=nbins, range=(np.min(sdvec/(sfvec/1000)), np.max(sdvec/(sfvec/1000))),\n",
    "             label='S-band events')\n",
    "ax[2,0].hist(event_dvec_C/(event_fvec_C/1000), color=event_color, bins=nbins, range=(np.min(cdvec/(cfvec/1000)), np.max(cdvec/(cfvec/1000))),\n",
    "             label='C-band events')\n",
    "ax[3,0].hist(event_dvec_X/(event_fvec_X/1000), color=event_color, bins=nbins, range=(np.min(xdvec/(xfvec/1000)), np.max(xdvec/(xfvec/1000))),\n",
    "             label='X-band events')\n",
    "\n",
    "hist, bins = np.histogram(lsvec, bins=nbins, range=(np.min(lsvec), np.max(lsvec)))\n",
    "logbins = np.logspace(np.log10(bins[0]),np.log10(bins[-1]),len(bins))\n",
    "ax[0,1].hist(lsvec, color=hit_color, bins=logbins, label='L-band hits')\n",
    "hist, bins = np.histogram(event_svec_L, bins=nbins, range=(np.min(lsvec), np.max(lsvec)))\n",
    "logbins = np.logspace(np.log10(bins[0]),np.log10(bins[-1]),len(bins))\n",
    "ax[0,1].hist(event_svec_L, color=event_color, bins=logbins, label='L-band events')\n",
    "ax[0,1].set_xscale('log')\n",
    "\n",
    "hist, bins = np.histogram(ssvec, bins=nbins, range=(np.min(ssvec), np.max(ssvec)))\n",
    "logbins = np.logspace(np.log10(bins[0]),np.log10(bins[-1]),len(bins))\n",
    "ax[1,1].hist(ssvec, color=hit_color, bins=logbins, label='S-band hits')\n",
    "hist, bins = np.histogram(event_svec_S, bins=nbins, range=(np.min(ssvec), np.max(ssvec)))\n",
    "logbins = np.logspace(np.log10(bins[0]),np.log10(bins[-1]),len(bins))\n",
    "ax[1,1].hist(event_svec_S, color=event_color, bins=logbins, label='S-band events')\n",
    "ax[1,1].set_xscale('log')\n",
    "\n",
    "hist, bins = np.histogram(csvec, bins=nbins, range=(np.min(csvec), np.max(csvec)))\n",
    "logbins = np.logspace(np.log10(bins[0]),np.log10(bins[-1]),len(bins))\n",
    "ax[2,1].hist(csvec, color=hit_color, bins=logbins, label='C-band hits')\n",
    "hist, bins = np.histogram(event_svec_C, bins=nbins, range=(np.min(csvec), np.max(csvec)))\n",
    "logbins = np.logspace(np.log10(bins[0]),np.log10(bins[-1]),len(bins))\n",
    "ax[2,1].hist(event_svec_C, color=event_color, bins=logbins, label='C-band events')\n",
    "ax[2,1].set_xscale('log')\n",
    "\n",
    "hist, bins = np.histogram(xsvec, bins=nbins, range=(np.min(xsvec), np.max(xsvec)))\n",
    "logbins = np.logspace(np.log10(bins[0]),np.log10(bins[-1]),len(bins))\n",
    "ax[3,1].hist(xsvec, color=hit_color, bins=logbins, label='X-band hits')\n",
    "hist, bins = np.histogram(event_svec_X, bins=nbins, range=(np.min(xsvec), np.max(xsvec)))\n",
    "logbins = np.logspace(np.log10(bins[0]),np.log10(bins[-1]),len(bins))\n",
    "ax[3,1].hist(event_svec_X, color=event_color, bins=logbins, label='X-band events')\n",
    "ax[3,1].set_xscale('log')\n",
    "\n",
    "\n",
    "for a in ax.flat:\n",
    "    a.set_yscale('log')\n",
    "    a.legend()\n",
    "ax[3,0].set_xlabel('normalized drift rate [nHz]')\n",
    "ax[3,1].set_xlabel('S/N')\n",
    "plt.subplots_adjust(wspace=0.1, hspace=0.12)\n",
    "\n",
    "plt.savefig('/datax/scratch/benjb/bl_nearby_stars/seticore_output/plots/drift_and_SNR_histograms.pdf', bbox_inches='tight')\n",
    "plt.show()"
   ]
  },
  {
   "cell_type": "code",
   "execution_count": 134,
   "metadata": {},
   "outputs": [
    {
     "data": {
      "image/png": "[encoded data removed]",
      "text/plain": [
       "<Figure size 432x288 with 1 Axes>"
      ]
     },
     "metadata": {
      "needs_background": "light"
     },
     "output_type": "display_data"
    }
   ],
   "source": [
    "plt.hist(np.log10(event_svec_S))\n",
    "plt.yscale('log')\n",
    "plt.show()"
   ]
  },
  {
   "cell_type": "code",
   "execution_count": 136,
   "metadata": {},
   "outputs": [
    {
     "data": {
      "image/png": "[encoded data removed]",
      "text/plain": [
       "<Figure size 432x288 with 1 Axes>"
      ]
     },
     "metadata": {
      "needs_background": "light"
     },
     "output_type": "display_data"
    }
   ],
   "source": [
    "nbins=200\n",
    "hist, bins = np.histogram(ssvec, bins=nbins)\n",
    "logbins = np.logspace(np.log10(bins[0]),np.log10(bins[-1]),len(bins))\n",
    "plt.hist(ssvec, color=hit_color, bins=logbins, label='S-band hits')\n",
    "hist, bins = np.histogram(event_svec_S, bins=nbins)\n",
    "logbins = np.logspace(np.log10(bins[0]),np.log10(bins[-1]),len(bins))\n",
    "plt.hist(event_svec_S, color=event_color, bins=logbins, label='S-band events')\n",
    "plt.xscale('log')\n",
    "plt.yscale('log')\n",
    "plt.show()"
   ]
  },
  {
   "cell_type": "code",
   "execution_count": 8,
   "metadata": {},
   "outputs": [
    {
     "name": "stdout",
     "output_type": "stream",
     "text": [
      "/datax/scratch/benjb/bl_nearby_stars/seticore_output/within_5.1_pc/20867_GJ702B_Rcvr4_6_splic_dat_files.lst\n"
     ]
    }
   ],
   "source": [
    "print('/datax/scratch/benjb/bl_nearby_stars/seticore_output/within_5.1_pc/20867_GJ702B_Rcvr4_6_splic_dat_files.lst')"
   ]
  },
  {
   "cell_type": "code",
   "execution_count": 9,
   "metadata": {},
   "outputs": [],
   "source": [
    "h5_list = ['/datag/pipeline/AGBT17B_999_21/collate2/spliced_blc00010203040506o7o0111213141516o0212223242526o7o031323334353637_guppi_58000_09701_GJ702B_0057.gpuspec.0000.h5',\n",
    "'/datag/pipeline/AGBT17B_999_21/collate2/spliced_blc00010203040506o7o0111213141516o0212223242526o7o031323334353637_guppi_58000_10040_HIP87790_0058.gpuspec.0000.h5',\n",
    "'/datag/pipeline/AGBT17B_999_21/collate2/spliced_blc00010203040506o7o0111213141516o0212223242526o7o031323334353637_guppi_58000_10378_GJ702B_0059.gpuspec.0000.h5',\n",
    "'/datag/pipeline/AGBT17B_999_21/collate2/spliced_blc00010203040506o7o0111213141516o0212223242526o7o031323334353637_guppi_58000_10715_HIP87860_0060.gpuspec.0000.h5',\n",
    "'/datag/pipeline/AGBT17B_999_21/collate2/spliced_blc00010203040506o7o0111213141516o0212223242526o7o031323334353637_guppi_58000_11052_GJ702B_0061.gpuspec.0000.h5',\n",
    "'/datag/pipeline/AGBT17B_999_21/collate2/spliced_blc00010203040506o7o0111213141516o0212223242526o7o031323334353637_guppi_58000_11389_HIP87901_0062.gpuspec.0000.h5']"
   ]
  },
  {
   "cell_type": "code",
   "execution_count": null,
   "metadata": {},
   "outputs": [],
   "source": [
    "from turbo_seti.find_event import plot_event\n",
    "\n",
    "centerfreq = 4174.715223\n",
    "source_list = ['GJ702B',\n",
    "               'HIP87790',\n",
    "               'GJ702B',\n",
    "               'HIP87860',\n",
    "               'GJ702B',\n",
    "               'HIP87901']\n",
    "\n",
    "plot_event.make_waterfall_plots(fil_file_list = h5_list, \n",
    "                                        on_source_name='GJ702B',\n",
    "                                        f_start=centerfreq-0.00025,\n",
    "                                        f_stop=centerfreq+0.00025,\n",
    "                                        drift_rate=0.041,\n",
    "                                        f_mid=centerfreq,\n",
    "                                        filter_level=3,\n",
    "                                        source_name_list=source_list,\n",
    "                                        offset=0.0001,\n",
    "                                        plot_dir='/datax/scratch/benjb/bl_nearby_stars/seticore_output/within_5.1_pc/custom_pngs/') "
   ]
  },
  {
   "cell_type": "code",
   "execution_count": 14,
   "metadata": {},
   "outputs": [
    {
     "name": "stdout",
     "output_type": "stream",
     "text": [
      "\n",
      "--- File Info ---\n",
      "DIMENSION_LABELS : [b'time' b'feed_id' b'frequency']\n",
      "        az_start :                              0.0\n",
      "       data_type :                                1\n",
      "            fch1 :                7313.96484375 MHz\n",
      "            foff :      -2.7939677238464355e-06 MHz\n",
      "           ibeam :                                1\n",
      "      machine_id :                               20\n",
      "          nbeams :                                1\n",
      "           nbits :                               32\n",
      "          nchans :                         67108864\n",
      "            nfpc :                          1048576\n",
      "            nifs :                                1\n",
      "     rawdatafile : guppi_60331_81094_HIP649_0130.0000.raw\n",
      "     source_name :                           HIP649\n",
      "         src_dej :                      -7:33:02.52\n",
      "         src_raj :                       0:08:01.68\n",
      "    telescope_id :                                6\n",
      "           tsamp :               18.253611007999982\n",
      "   tstart (ISOT) :          2024-01-22T22:31:34.000\n",
      "    tstart (MJD) :                60331.93858796296\n",
      "        za_start :                              0.0\n",
      "\n",
      "Num ints in file :                               16\n",
      "      File shape :                (16, 1, 67108864)\n",
      "--- Selection Info ---\n",
      "Data selection shape :                (16, 1, 67108864)\n",
      "Minimum freq (MHz) :                7126.464846543968\n",
      "Maximum freq (MHz) :                    7313.96484375\n"
     ]
    }
   ],
   "source": [
    "fb = bl.Waterfall('/datag/pipeline/AGBT23B_999_31/blc06_blp06/blc06_guppi_60331_81094_HIP649_0130.rawspec.0000.h5')\n",
    "fb.info()"
   ]
  },
  {
   "cell_type": "code",
   "execution_count": null,
   "metadata": {},
   "outputs": [],
   "source": []
  }
 ],
 "metadata": {
  "kernelspec": {
   "display_name": "base",
   "language": "python",
   "name": "python3"
  },
  "language_info": {
   "codemirror_mode": {
    "name": "ipython",
    "version": 3
   },
   "file_extension": ".py",
   "mimetype": "text/x-python",
   "name": "python",
   "nbconvert_exporter": "python",
   "pygments_lexer": "ipython3",
   "version": "3.7.6"
  }
 },
 "nbformat": 4,
 "nbformat_minor": 2
}
