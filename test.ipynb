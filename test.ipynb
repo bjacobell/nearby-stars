{
 "cells": [
  {
   "cell_type": "code",
   "execution_count": 1,
   "metadata": {},
   "outputs": [
    {
     "name": "stderr",
     "output_type": "stream",
     "text": [
      "/opt/conda/lib/python3.7/importlib/_bootstrap.py:219: RuntimeWarning: numpy.ndarray size changed, may indicate binary incompatibility. Expected 80 from C header, got 88 from PyObject\n",
      "  return f(*args, **kwds)\n",
      "/opt/conda/lib/python3.7/importlib/_bootstrap.py:219: RuntimeWarning: numpy.ndarray size changed, may indicate binary incompatibility. Expected 80 from C header, got 88 from PyObject\n",
      "  return f(*args, **kwds)\n",
      "/opt/conda/lib/python3.7/importlib/_bootstrap.py:219: RuntimeWarning: numpy.ufunc size changed, may indicate binary incompatibility. Expected 192 from C header, got 216 from PyObject\n",
      "  return f(*args, **kwds)\n",
      "/opt/conda/lib/python3.7/importlib/_bootstrap.py:219: RuntimeWarning: numpy.ufunc size changed, may indicate binary incompatibility. Expected 192 from C header, got 216 from PyObject\n",
      "  return f(*args, **kwds)\n",
      "/opt/conda/lib/python3.7/importlib/_bootstrap.py:219: RuntimeWarning: numpy.ufunc size changed, may indicate binary incompatibility. Expected 192 from C header, got 216 from PyObject\n",
      "  return f(*args, **kwds)\n"
     ]
    },
    {
     "name": "stdout",
     "output_type": "stream",
     "text": [
      "numexpr.utils   INFO     Note: NumExpr detected 40 cores but \"NUMEXPR_MAX_THREADS\" not set, so enforcing safe limit of 8.\n",
      "numexpr.utils   INFO     NumExpr defaulting to 8 threads.\n"
     ]
    }
   ],
   "source": [
    "import bldw\n",
    "import numpy as np\n",
    "import blimpy as bl\n",
    "import pandas as pd\n",
    "import matplotlib.pyplot as plt\n",
    "import os\n",
    "%matplotlib inline"
   ]
  },
  {
   "cell_type": "code",
   "execution_count": 3,
   "metadata": {},
   "outputs": [
    {
     "name": "stdout",
     "output_type": "stream",
     "text": [
      "\n",
      "--- File Info ---\n",
      "DIMENSION_LABELS : [b'time' b'feed_id' b'frequency']\n",
      "        az_start :                              0.0\n",
      "       data_type :                                1\n",
      "            fch1 :                2251.46484375 MHz\n",
      "            foff :      -2.7939677238464355e-06 MHz\n",
      "      machine_id :                               20\n",
      "           nbits :                               32\n",
      "          nchans :                        536870912\n",
      "            nifs :                                1\n",
      "     source_name :                       MESSIER081\n",
      "         src_dej :                       69:03:55.8\n",
      "         src_raj :                      9:55:33.192\n",
      "    telescope_id :                                6\n",
      "           tsamp :               18.253611007999982\n",
      "   tstart (ISOT) :          2020-02-06T17:40:46.000\n",
      "    tstart (MJD) :                58885.73664351852\n",
      "        za_start :                              0.0\n",
      "\n",
      "Num ints in file :                               16\n",
      "      File shape :               (16, 1, 536870912)\n",
      "--- Selection Info ---\n",
      "Data selection shape :               (16, 1, 536870912)\n",
      "Minimum freq (MHz) :                751.4648465439677\n",
      "Maximum freq (MHz) :                    2251.46484375\n"
     ]
    }
   ],
   "source": [
    "file = '/datax/scratch/benjb/bliss_LSCX_test/spliced_blc4041424344454647_guppi_58885_63646_MESSIER081_0057.rawspec.0000.h5'\n",
    "fb = bl.Waterfall(file, load_data=False)\n",
    "fb.info()"
   ]
  },
  {
   "cell_type": "code",
   "execution_count": 5,
   "metadata": {},
   "outputs": [
    {
     "name": "stdout",
     "output_type": "stream",
     "text": [
      "1048576\n"
     ]
    }
   ],
   "source": [
    "print(2**20)"
   ]
  },
  {
   "cell_type": "code",
   "execution_count": 2,
   "metadata": {},
   "outputs": [
    {
     "name": "stdout",
     "output_type": "stream",
     "text": [
      "282858\n",
      "234366\n"
     ]
    }
   ],
   "source": [
    "df0 = pd.read_csv('/datax/scratch/benjb/bl_nearby_stars/star_cadences_catalog_no_band.csv')\n",
    "arr = np.transpose(np.array([df0['Cadence ID'].values, df0['.h5 path'].values], dtype=str))\n",
    "u = np.unique(arr, axis=0)\n",
    "print(len(arr))\n",
    "print(len(u))"
   ]
  },
  {
   "cell_type": "code",
   "execution_count": 3,
   "metadata": {},
   "outputs": [
    {
     "data": {
      "text/html": [
       "<div>\n",
       "<style scoped>\n",
       "    .dataframe tbody tr th:only-of-type {\n",
       "        vertical-align: middle;\n",
       "    }\n",
       "\n",
       "    .dataframe tbody tr th {\n",
       "        vertical-align: top;\n",
       "    }\n",
       "\n",
       "    .dataframe thead th {\n",
       "        text-align: right;\n",
       "    }\n",
       "</style>\n",
       "<table border=\"1\" class=\"dataframe\">\n",
       "  <thead>\n",
       "    <tr style=\"text-align: right;\">\n",
       "      <th></th>\n",
       "      <th>Target</th>\n",
       "      <th>Distance</th>\n",
       "      <th>Cadence ID</th>\n",
       "      <th>Frequency</th>\n",
       "      <th>.h5 path</th>\n",
       "    </tr>\n",
       "  </thead>\n",
       "  <tbody>\n",
       "    <tr>\n",
       "      <th>0</th>\n",
       "      <td>GJ1002</td>\n",
       "      <td>4.69</td>\n",
       "      <td>3635</td>\n",
       "      <td>1926</td>\n",
       "      <td>/datag/pipeline/AGBT16A_999_219/holding/splice...</td>\n",
       "    </tr>\n",
       "    <tr>\n",
       "      <th>1</th>\n",
       "      <td>GJ1002</td>\n",
       "      <td>4.69</td>\n",
       "      <td>3635</td>\n",
       "      <td>1926</td>\n",
       "      <td>/datag/pipeline/AGBT16A_999_219/holding/splice...</td>\n",
       "    </tr>\n",
       "    <tr>\n",
       "      <th>2</th>\n",
       "      <td>GJ1002</td>\n",
       "      <td>4.69</td>\n",
       "      <td>3635</td>\n",
       "      <td>1926</td>\n",
       "      <td>/datag/pipeline/AGBT16A_999_219/holding/splice...</td>\n",
       "    </tr>\n",
       "    <tr>\n",
       "      <th>3</th>\n",
       "      <td>GJ1002</td>\n",
       "      <td>4.69</td>\n",
       "      <td>3635</td>\n",
       "      <td>1926</td>\n",
       "      <td>/datag/pipeline/AGBT16A_999_219/holding/splice...</td>\n",
       "    </tr>\n",
       "    <tr>\n",
       "      <th>4</th>\n",
       "      <td>GJ1002</td>\n",
       "      <td>4.69</td>\n",
       "      <td>3635</td>\n",
       "      <td>1926</td>\n",
       "      <td>/datag/pipeline/AGBT16A_999_219/holding/splice...</td>\n",
       "    </tr>\n",
       "    <tr>\n",
       "      <th>...</th>\n",
       "      <td>...</td>\n",
       "      <td>...</td>\n",
       "      <td>...</td>\n",
       "      <td>...</td>\n",
       "      <td>...</td>\n",
       "    </tr>\n",
       "    <tr>\n",
       "      <th>282853</th>\n",
       "      <td>SO0253</td>\n",
       "      <td>3.85</td>\n",
       "      <td>421558</td>\n",
       "      <td>7876</td>\n",
       "      <td>/datag/pipeline/AGBT23B_999_14/blc76_blp36/blc...</td>\n",
       "    </tr>\n",
       "    <tr>\n",
       "      <th>282854</th>\n",
       "      <td>SO0253</td>\n",
       "      <td>3.85</td>\n",
       "      <td>421558</td>\n",
       "      <td>7876</td>\n",
       "      <td>/datag/pipeline/AGBT23B_999_14/blc76_blp36/blc...</td>\n",
       "    </tr>\n",
       "    <tr>\n",
       "      <th>282855</th>\n",
       "      <td>SO0253</td>\n",
       "      <td>3.85</td>\n",
       "      <td>421558</td>\n",
       "      <td>7876</td>\n",
       "      <td>/datag/pipeline/AGBT23B_999_14/blc76_blp36/blc...</td>\n",
       "    </tr>\n",
       "    <tr>\n",
       "      <th>282856</th>\n",
       "      <td>SO0253</td>\n",
       "      <td>3.85</td>\n",
       "      <td>421558</td>\n",
       "      <td>7876</td>\n",
       "      <td>/datag/pipeline/AGBT23B_999_14/blc76_blp36/blc...</td>\n",
       "    </tr>\n",
       "    <tr>\n",
       "      <th>282857</th>\n",
       "      <td>SO0253</td>\n",
       "      <td>3.85</td>\n",
       "      <td>421558</td>\n",
       "      <td>7876</td>\n",
       "      <td>/datag/pipeline/AGBT23B_999_14/blc76_blp36/blc...</td>\n",
       "    </tr>\n",
       "  </tbody>\n",
       "</table>\n",
       "<p>282858 rows × 5 columns</p>\n",
       "</div>"
      ],
      "text/plain": [
       "        Target  Distance  Cadence ID  Frequency  \\\n",
       "0       GJ1002      4.69        3635       1926   \n",
       "1       GJ1002      4.69        3635       1926   \n",
       "2       GJ1002      4.69        3635       1926   \n",
       "3       GJ1002      4.69        3635       1926   \n",
       "4       GJ1002      4.69        3635       1926   \n",
       "...        ...       ...         ...        ...   \n",
       "282853  SO0253      3.85      421558       7876   \n",
       "282854  SO0253      3.85      421558       7876   \n",
       "282855  SO0253      3.85      421558       7876   \n",
       "282856  SO0253      3.85      421558       7876   \n",
       "282857  SO0253      3.85      421558       7876   \n",
       "\n",
       "                                                 .h5 path  \n",
       "0       /datag/pipeline/AGBT16A_999_219/holding/splice...  \n",
       "1       /datag/pipeline/AGBT16A_999_219/holding/splice...  \n",
       "2       /datag/pipeline/AGBT16A_999_219/holding/splice...  \n",
       "3       /datag/pipeline/AGBT16A_999_219/holding/splice...  \n",
       "4       /datag/pipeline/AGBT16A_999_219/holding/splice...  \n",
       "...                                                   ...  \n",
       "282853  /datag/pipeline/AGBT23B_999_14/blc76_blp36/blc...  \n",
       "282854  /datag/pipeline/AGBT23B_999_14/blc76_blp36/blc...  \n",
       "282855  /datag/pipeline/AGBT23B_999_14/blc76_blp36/blc...  \n",
       "282856  /datag/pipeline/AGBT23B_999_14/blc76_blp36/blc...  \n",
       "282857  /datag/pipeline/AGBT23B_999_14/blc76_blp36/blc...  \n",
       "\n",
       "[282858 rows x 5 columns]"
      ]
     },
     "execution_count": 3,
     "metadata": {},
     "output_type": "execute_result"
    }
   ],
   "source": [
    "df = pd.read_csv('/datax/scratch/benjb/bl_nearby_stars/star_cadences_catalog_no_band.csv')\n",
    "df"
   ]
  },
  {
   "cell_type": "code",
   "execution_count": 5,
   "metadata": {},
   "outputs": [
    {
     "name": "stdout",
     "output_type": "stream",
     "text": [
      "/datag/pipeline/AGBT21B_999_13/blc26/guppi_59470_06877_HIP113409_0086.rawspec.0000.h5\n"
     ]
    },
    {
     "ename": "ValueError",
     "evalue": "invalid literal for int() with base 10: 'i'",
     "output_type": "error",
     "traceback": [
      "\u001b[0;31m---------------------------------------------------------------------------\u001b[0m",
      "\u001b[0;31mValueError\u001b[0m                                Traceback (most recent call last)",
      "\u001b[0;32m<ipython-input-5-2e01ce6c77f2>\u001b[0m in \u001b[0;36m<module>\u001b[0;34m\u001b[0m\n\u001b[1;32m     22\u001b[0m             \u001b[0;32mif\u001b[0m \u001b[0mf\u001b[0m \u001b[0;32min\u001b[0m \u001b[0mcx_overlap\u001b[0m\u001b[0;34m:\u001b[0m\u001b[0;34m\u001b[0m\u001b[0;34m\u001b[0m\u001b[0m\n\u001b[1;32m     23\u001b[0m                 \u001b[0ma\u001b[0m \u001b[0;34m=\u001b[0m \u001b[0mnp\u001b[0m\u001b[0;34m.\u001b[0m\u001b[0mwhere\u001b[0m\u001b[0;34m(\u001b[0m\u001b[0mcx_overlap\u001b[0m \u001b[0;34m==\u001b[0m \u001b[0mf\u001b[0m\u001b[0;34m)\u001b[0m\u001b[0;34m[\u001b[0m\u001b[0;36m0\u001b[0m\u001b[0;34m]\u001b[0m\u001b[0;34m\u001b[0m\u001b[0;34m\u001b[0m\u001b[0m\n\u001b[0;32m---> 24\u001b[0;31m                 \u001b[0;32mif\u001b[0m \u001b[0ma\u001b[0m \u001b[0;34m==\u001b[0m \u001b[0mint\u001b[0m\u001b[0;34m(\u001b[0m\u001b[0mnode\u001b[0m\u001b[0;34m[\u001b[0m\u001b[0;34m-\u001b[0m\u001b[0;36m1\u001b[0m\u001b[0;34m]\u001b[0m\u001b[0;34m)\u001b[0m\u001b[0;34m:\u001b[0m\u001b[0;34m\u001b[0m\u001b[0;34m\u001b[0m\u001b[0m\n\u001b[0m\u001b[1;32m     25\u001b[0m                     \u001b[0mband\u001b[0m \u001b[0;34m=\u001b[0m \u001b[0;34m'C'\u001b[0m\u001b[0;34m\u001b[0m\u001b[0;34m\u001b[0m\u001b[0m\n\u001b[1;32m     26\u001b[0m                 \u001b[0;32melif\u001b[0m \u001b[0ma\u001b[0m \u001b[0;34m==\u001b[0m \u001b[0mint\u001b[0m\u001b[0;34m(\u001b[0m\u001b[0mnode\u001b[0m\u001b[0;34m[\u001b[0m\u001b[0;34m-\u001b[0m\u001b[0;36m1\u001b[0m\u001b[0;34m]\u001b[0m\u001b[0;34m)\u001b[0m\u001b[0;34m-\u001b[0m\u001b[0;36m3\u001b[0m\u001b[0;34m:\u001b[0m\u001b[0;34m\u001b[0m\u001b[0;34m\u001b[0m\u001b[0m\n",
      "\u001b[0;31mValueError\u001b[0m: invalid literal for int() with base 10: 'i'"
     ]
    }
   ],
   "source": [
    "band_list = []\n",
    "missing_files = []\n",
    "\n",
    "cx_overlap = np.array([8438.96484375, 8251.46484375, 8063.96484375, 7876.46484375, 7688.96484375])\n",
    "\n",
    "for i, h5 in enumerate(df['.h5 path'].values):\n",
    "    if i < 38108:\n",
    "        continue\n",
    "    print(h5)\n",
    "    if not os.path.exists(h5):\n",
    "        missing_files.append(h5)\n",
    "        continue\n",
    "    fb = bl.Waterfall(h5, load_data=False)\n",
    "    f = fb.header['fch1']\n",
    "    node = os.path.basename(h5)[:5]\n",
    "    if 'spliced' in h5:\n",
    "        avg_freq = f + (fb.header['foff']*fb.header['nchans']/2)\n",
    "        bands = np.array([['L',1500],['S',2400],['C',6000],['X',9375]])\n",
    "        band = bands[:,0][np.argmin(np.abs(bands[:,1].astype('float')-avg_freq))]\n",
    "    else:\n",
    "        if (f > np.min(cx_overlap)) & (f < np.max(cx_overlap)):\n",
    "            if f in cx_overlap:\n",
    "                a = np.where(cx_overlap == f)[0]\n",
    "                if a == int(node[-1]):\n",
    "                    band = 'C'\n",
    "                elif a == int(node[-1])-3:\n",
    "                    band = 'X'\n",
    "                else:\n",
    "                    band = 'F' # meant to catch edge cases\n",
    "            else:\n",
    "                band = 'F'\n",
    "        elif (np.abs((f-1500)/187.5) < 5) & (np.abs((f-1500)/187.5) % 1 < 0.01):\n",
    "            band = 'L'\n",
    "        elif np.abs((f-2400)/187.5) % 1 < 0.01:\n",
    "            band = 'S'\n",
    "        elif (np.abs((f-1500)/187.5) > 5) & (np.abs((f-6000)/187.5) % 1 < 0.01):\n",
    "            band = 'C'\n",
    "        elif np.abs((f-9375)/187.5) % 1 < 0.01:\n",
    "            band = 'X'\n",
    "    print(i, f, band, node)\n",
    "    print(h5)\n",
    "    band_list.append(band)\n",
    "    break"
   ]
  },
  {
   "cell_type": "code",
   "execution_count": null,
   "metadata": {},
   "outputs": [],
   "source": [
    "np.save('/datax/scratch/benjb/bl_nearby_stars/band_list.npy', band_list)"
   ]
  },
  {
   "cell_type": "code",
   "execution_count": null,
   "metadata": {},
   "outputs": [],
   "source": [
    "df = pd.read_csv('/datax/scratch/benjb/bl_nearby_stars/star_cadences_catalog_with_receiver.csv')\n",
    "dfc = df.iloc[np.where(df['Receiver'].values == 'Rcvr8_10')]\n",
    "semesters = []\n",
    "mjds = []\n",
    "for i in range(len(dfc)):\n",
    "    h5 = dfc['.h5 path'].values[i]\n",
    "    s = h5.split('AGBT')[1][:3]\n",
    "    mjd = h5.split('guppi_')[1][:5]\n",
    "    semesters.append(s)\n",
    "    mjds.append(float(mjd))\n",
    "    #if s == '23B':\n",
    "    #    print(mjd)\n",
    "u, c = np.unique(semesters, return_counts=True)\n",
    "plt.bar(u, c)\n",
    "plt.yscale('log')\n",
    "plt.show()\n",
    "plt.hist(mjds, bins=100)\n",
    "plt.axvspan(59976, 60156, lw=0, color='red', alpha=0.2)\n",
    "plt.axvspan(60096, 60125, lw=0, color='k')\n",
    "plt.xlabel('MJD')\n",
    "plt.yscale('log')\n",
    "plt.show()"
   ]
  }
 ],
 "metadata": {
  "kernelspec": {
   "display_name": "base",
   "language": "python",
   "name": "python3"
  },
  "language_info": {
   "codemirror_mode": {
    "name": "ipython",
    "version": 3
   },
   "file_extension": ".py",
   "mimetype": "text/x-python",
   "name": "python",
   "nbconvert_exporter": "python",
   "pygments_lexer": "ipython3",
   "version": "3.7.6"
  }
 },
 "nbformat": 4,
 "nbformat_minor": 2
}
